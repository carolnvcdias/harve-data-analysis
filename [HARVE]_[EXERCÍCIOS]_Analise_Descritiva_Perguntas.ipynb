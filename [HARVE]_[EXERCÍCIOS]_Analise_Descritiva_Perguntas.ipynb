{
 "cells": [
  {
   "cell_type": "markdown",
   "metadata": {
    "id": "t1ODUbV4kwRv"
   },
   "source": [
    "\n",
    "\n",
    "### Aula 1\n",
    "\n"
   ]
  },
  {
   "cell_type": "markdown",
   "metadata": {
    "id": "aqF9hTnSlpdy"
   },
   "source": [
    "1 - Numa amostra de 8 funcionários de uma empresa observou-se duas variáveis: anos de trabalho e número de promoções recebidas. Calcule a correlação entre elas:"
   ]
  },
  {
   "cell_type": "code",
   "execution_count": null,
   "metadata": {
    "id": "TZrFYvqkkl91"
   },
   "outputs": [],
   "source": [
    "import pandas as pd\n",
    "\n",
    "dados = {'promocoes' : [2,2,1,2,0,3,1,0],\n",
    "         'anos_de_trabalho' : [5,6,6,7,7,8,8,8]}\n",
    "\n",
    "df = pd.DataFrame(dados)"
   ]
  },
  {
   "cell_type": "markdown",
   "metadata": {
    "id": "KMcXhTqWqNrR"
   },
   "source": [
    "2 - Uma nutricionista procurou avaliar se a massa muscular (Y) de um conjunto de pacientes diminuía com a idade (X).  Calcule o coeficiente de correlação linear dessa relação."
   ]
  },
  {
   "cell_type": "code",
   "execution_count": null,
   "metadata": {
    "id": "WOGEA9I8qNMe"
   },
   "outputs": [],
   "source": [
    "import numpy as np\n",
    "\n",
    "massa_muscular = np.array([82,91,100,68,87,73,78,80,65,84,116,76,97,100,105,77,73,78])\n",
    "idade = np.array([71,64,43,67,56,73,68,56,76,65,45,58,45,53,49,78,73,68])"
   ]
  },
  {
   "cell_type": "markdown",
   "metadata": {
    "id": "DtHZVPc9rHdR"
   },
   "source": [
    "3 - Foram coletadas as informações de uma amostra de famílias para entender quantos cartões de créditos elas possuem e quais variáveis explicam isto:"
   ]
  },
  {
   "cell_type": "code",
   "execution_count": null,
   "metadata": {
    "id": "rwJtw6KPrHID"
   },
   "outputs": [],
   "source": [
    "import pandas as pd\n",
    "\n",
    "dados = {'id_familia':[1,2,3,4,5,6,7,8],\n",
    "         'n_cartoes': [4,6,6,7,8,7,8,10],\n",
    "         'tamanho_familia': [2,2,4,4,5,5,6,6],\n",
    "         'renda_familiar':[14,16,14,17,18,21,17,25],\n",
    "         'num_automoveis': [1,2,2,1,3,2,1,2]}\n",
    "\n",
    "df = pd.DataFrame(dados)"
   ]
  },
  {
   "cell_type": "markdown",
   "metadata": {
    "id": "EYgutLxpUhj-"
   },
   "source": [
    "- Correlações:"
   ]
  },
  {
   "cell_type": "markdown",
   "metadata": {
    "id": "AbgS8TWedu-f"
   },
   "source": [
    "* Exiba as correlações em gráficos:"
   ]
  },
  {
   "cell_type": "markdown",
   "metadata": {
    "id": "MrXzG-FFJDan"
   },
   "source": [
    "#Exercícios"
   ]
  },
  {
   "cell_type": "markdown",
   "metadata": {
    "id": "_8opFBVHVHbp"
   },
   "source": [
    "### Exercício 01"
   ]
  },
  {
   "cell_type": "markdown",
   "metadata": {
    "id": "ZiJ8xUp8VK2-"
   },
   "source": [
    "- Crie um modelo de Regressão Linear Simples para o Exercício 3 da Aula 01.\n",
    "\n",
    "**Dica**: para transformar uma série pandas em uma matriz coluna utilize\n",
    "\n",
    "`x = df[['minha_coluna_pandas']]`"
   ]
  },
  {
   "cell_type": "code",
   "execution_count": null,
   "metadata": {
    "id": "KqD_qHY4l7ok"
   },
   "outputs": [],
   "source": [
    "import pandas as pd\n",
    "\n",
    "dados = {'id_familia':[1,2,3,4,5,6,7,8],\n",
    "         'n_cartoes': [4,6,6,7,8,7,8,10],\n",
    "         'tamanho_familia': [2,2,4,4,5,5,6,6],\n",
    "         'renda_familiar':[14,16,14,17,18,21,17,25],\n",
    "         'num_automoveis': [1,2,2,1,3,2,1,2]}\n",
    "\n",
    "df = pd.DataFrame(dados)"
   ]
  },
  {
   "cell_type": "markdown",
   "metadata": {
    "id": "dVM197P-Eu75"
   },
   "source": [
    "### Exercício 02"
   ]
  },
  {
   "cell_type": "markdown",
   "metadata": {
    "id": "3LfG9JXe5C0z"
   },
   "source": [
    "- Crie um modelo de Regressão Linear Múltipla para o Exercício 3 da Aula 01."
   ]
  },
  {
   "cell_type": "code",
   "execution_count": null,
   "metadata": {
    "id": "VVSgAGYuGnZz"
   },
   "outputs": [],
   "source": [
    "from sklearn.linear_model import LinearRegression\n",
    "from sklearn.metrics import r2_score"
   ]
  },
  {
   "cell_type": "code",
   "execution_count": null,
   "metadata": {
    "id": "Tt4jSXkPG34J"
   },
   "outputs": [],
   "source": [
    "import pandas as pd\n",
    "\n",
    "dados = {'id_familia':[1,2,3,4,5,6,7,8],\n",
    "         'n_cartoes': [4,6,6,7,8,7,8,10],\n",
    "         'tamanho_familia': [2,2,4,4,5,5,6,6],\n",
    "         'renda_familiar':[14,16,14,17,18,21,17,25],\n",
    "         'num_automoveis': [1,2,2,1,3,2,1,2]}\n",
    "\n",
    "df = pd.DataFrame(dados)"
   ]
  },
  {
   "cell_type": "markdown",
   "metadata": {
    "id": "quvgs-V6cWee"
   },
   "source": [
    "Para os exercícios 03 a 10 defina:\n",
    "* Quais as correlações existentes?\n",
    "* (Quando Regressão Linear Múltipla) Existe colinearidade?\n",
    "* Quais as variáveis dependente e independente(s) do modelo?\n",
    "* Treine o modelo\n",
    "* Quais os valores para B0 e para os demais coeficientes?\n",
    "* Qual é a equação que descreve o comportamento dos dados?\n",
    "* Quais os valores de y previsto pelo modelo?\n",
    "* Quais os valores de resíduo do modelo?\n",
    "* Apresente o gráfico de dispersão do resíduo.\n",
    "* Quais os valores de R² e R² ajustado?\n",
    "* Quais as significâncias estatísticas dos B?"
   ]
  },
  {
   "cell_type": "markdown",
   "metadata": {
    "id": "gb64lmNpbVe3"
   },
   "source": [
    "### Exercício 03"
   ]
  },
  {
   "cell_type": "markdown",
   "metadata": {
    "id": "O13ePeUPslS8"
   },
   "source": [
    "Você consegue prever a nota de um estudante de acordo com a quantidade de horas que ele estudou para uma prova?"
   ]
  },
  {
   "cell_type": "code",
   "execution_count": null,
   "metadata": {
    "id": "Vl_pEm4Ts7ru"
   },
   "outputs": [],
   "source": [
    "import pandas as pd\n",
    "import numpy as np\n",
    "\n",
    "\n",
    "df = pd.DataFrame({'estudante': np.arange(10),\n",
    "                   'horas_estudo': [1,5,7,8,10,11,14,15,15,19],\n",
    "                   'notas': [53,74,59,43,56,84,96,69,84,83]})\n",
    "df.head()"
   ]
  },
  {
   "cell_type": "markdown",
   "metadata": {
    "id": "amIdB-DjlCwd"
   },
   "source": [
    "### Exercício 04"
   ]
  },
  {
   "cell_type": "markdown",
   "metadata": {
    "id": "iGUCQWpOlFmj"
   },
   "source": [
    "(MATTAR,2001) Uma empresa produtora de bens de consumo de massa levantou um histórico de dez anos das vendas, em milhares de unidades, de um produto, os investimentos, em milhões de reais, em comunicação( propaganda, promoção de vendas, etc.) e o número de vendedores para o mesmo produto. Crie um modelo de regressão linear para prever as vendas da empresa. "
   ]
  },
  {
   "cell_type": "code",
   "execution_count": null,
   "metadata": {
    "id": "mUWzUjkmmSvR"
   },
   "outputs": [],
   "source": [
    "import pandas as pd\n",
    "\n",
    "df = pd.DataFrame({'ano': [1983,1984,1985,1986,1987,1989,1990,1991,1992,1993],\n",
    "                   'comunicacao': [9.5,6.5,7.0,8.0,7.5,8.5,7.5,5.5,8.0,6.0],\n",
    "                   'num_vendedores': [10,8,9,12,15,11,13,7,15,10],\n",
    "                   'vendas':[95,60,60,80,80,80,85,60,85,65]})\n",
    "df.head()"
   ]
  },
  {
   "cell_type": "markdown",
   "metadata": {
    "id": "_BLhd35TMTFM"
   },
   "source": [
    "### Exercício 05 "
   ]
  },
  {
   "cell_type": "markdown",
   "metadata": {
    "id": "z6jf-rOQMVcy"
   },
   "source": [
    "Crie um modelo de Regressão Linear para prever o preço do índice de ações considerando as duas possíveis variáveis de entrada:\n",
    "\n",
    "* Taxa de juro\n",
    "* Taxa de desemprego"
   ]
  },
  {
   "cell_type": "code",
   "execution_count": null,
   "metadata": {
    "id": "y5UwWci9MSog"
   },
   "outputs": [],
   "source": [
    "import pandas as pd\n",
    "\n",
    "mercado_de_acoes = {'ano': [2017,2017,2017,2017,2017,2017,2017,2017,2017,2017,2017,2017,2016,2016,2016,2016,2016,2016,2016,2016,2016,2016,2016,2016],\n",
    "                'mes': [12, 11,10,9,8,7,6,5,4,3,2,1,12,11,10,9,8,7,6,5,4,3,2,1],\n",
    "                'taxa_juro': [2.75,2.5,2.5,2.5,2.5,2.5,2.5,2.25,2.25,2.25,2,2,2,1.75,1.75,1.75,1.75,1.75,1.75,1.75,1.75,1.75,1.75,1.75],\n",
    "                'taxa_desemprego': [5.3,5.3,5.3,5.3,5.4,5.6,5.5,5.5,5.5,5.6,5.7,5.9,6,5.9,5.8,6.1,6.2,6.1,6.1,6.1,5.9,6.2,6.2,6.1],\n",
    "                'preco_indice_acoes': [1464,1394,1357,1293,1256,1254,1234,1195,1159,1167,1130,1075,1047,965,943,958,971,949,884,866,876,822,704,719]        \n",
    "                }\n",
    "\n",
    "df = pd.DataFrame(mercado_de_acoes,columns=['ano','mes','taxa_juro','taxa_desemprego','preco_indice_acoes']) \n",
    "\n",
    "df.head()"
   ]
  },
  {
   "cell_type": "markdown",
   "metadata": {
    "id": "RuyDRYWgycMi"
   },
   "source": [
    "### Exercício 06 "
   ]
  },
  {
   "cell_type": "markdown",
   "metadata": {
    "id": "EyW2avMj0VAt"
   },
   "source": [
    "Considere um experimento em que se analisa a octanagem da gasolina em função da adição de um novo aditivo (em %). Descreva um modelo de regressão linear para descrever esse comportamento. "
   ]
  },
  {
   "cell_type": "code",
   "execution_count": null,
   "metadata": {
    "id": "BHxYLKjn0PjQ"
   },
   "outputs": [],
   "source": [
    "import pandas as pd\n",
    "\n",
    "df = pd.DataFrame({'octanagem':[80.5,81.6,82.1,83.7,83.9,85],\n",
    "                   'aditivo':[1,2,3,4,5,6]})\n",
    "df.head()"
   ]
  },
  {
   "cell_type": "markdown",
   "metadata": {
    "id": "eh20aPfj3Xok"
   },
   "source": [
    "### Exercício 07"
   ]
  },
  {
   "cell_type": "markdown",
   "metadata": {
    "id": "XrUfwXij3Zvh"
   },
   "source": [
    "Foram coletadas as informações de consumo de água e de temperatura em uma determinada empresa. Crie um modelo capaz de relacionar as variáveis."
   ]
  },
  {
   "cell_type": "code",
   "execution_count": null,
   "metadata": {
    "id": "FUM4YVn16FXZ"
   },
   "outputs": [],
   "source": [
    "import pandas as pd\n",
    "\n",
    "df = pd.DataFrame({'temperatura':[77,86,71,75,85,83,72,79,89,80,84,76],\n",
    "                   'consumo':[89,171,58,76,139,130,78,115,182,130,154,105]})\n",
    "df.head()"
   ]
  },
  {
   "cell_type": "markdown",
   "metadata": {
    "id": "0EzZwoHW_FlM"
   },
   "source": [
    "### Exercício 08"
   ]
  },
  {
   "cell_type": "markdown",
   "metadata": {
    "id": "IBNC4BCe_Hhb"
   },
   "source": [
    "Um banco pretende estudar a relação entre o volume de vendas de seguros efetuadas durante um dado período de tempo por seus vendedores, considerando seus anos de experiência e seu score num teste de inteligência. "
   ]
  },
  {
   "cell_type": "code",
   "execution_count": null,
   "metadata": {
    "id": "0xm-cBaAFXt8"
   },
   "outputs": [],
   "source": [
    "import pandas as pd\n",
    "\n",
    "df = pd.read_csv('https://raw.githubusercontent.com/brunamulinari/DataBasesPython/master/Exercicios/Exercicio%2010%20-%20RegMult.csv', delimiter=';',decimal=',')\n",
    "df.head()"
   ]
  },
  {
   "cell_type": "markdown",
   "metadata": {
    "id": "CLxHCgmn_J2z"
   },
   "source": [
    "### Exercício 09"
   ]
  },
  {
   "cell_type": "markdown",
   "metadata": {
    "id": "YuHpw6ek_TvV"
   },
   "source": [
    "Uma empresa pretende analisar os gastos de manutenção com sua frota de veículos de um  mesmo modelo considerando  a quilometragem inicial  do veículo e a diferença  dessa quilometragem desde a aquisição do automóvel."
   ]
  },
  {
   "cell_type": "code",
   "execution_count": null,
   "metadata": {
    "id": "F8ApGlHdExGY"
   },
   "outputs": [],
   "source": [
    "import pandas as pd\n",
    "\n",
    "df = pd.read_csv('https://raw.githubusercontent.com/brunamulinari/DataBasesPython/master/Exercicios/Exercicio%209%20-%20RegMult.csv', delimiter=';',decimal=',')\n",
    "df.head()"
   ]
  },
  {
   "cell_type": "markdown",
   "metadata": {
    "id": "dXzy86jh_L5a"
   },
   "source": [
    "### Exercício 10"
   ]
  },
  {
   "cell_type": "markdown",
   "metadata": {
    "id": "R4o79I4M_aDA"
   },
   "source": [
    "Uma empresa pretende analisar o tempo médio do processo  de atendimento observando  o turno de entrada dos funcionários e o tempo de experiência deles. Os turnos de trabalho analisados foram  manhã e tarde e o tempo de experiência é dado em dias."
   ]
  },
  {
   "cell_type": "code",
   "execution_count": null,
   "metadata": {
    "id": "LFYXTHtBBEE0"
   },
   "outputs": [],
   "source": [
    "import pandas as pd\n",
    "\n",
    "df = pd.read_csv('https://raw.githubusercontent.com/brunamulinari/DataBasesPython/master/Exercicios/Exercicio%208%20-%20RegMult.csv', delimiter=';',decimal=',')\n",
    "df.head()"
   ]
  },
  {
   "cell_type": "markdown",
   "metadata": {
    "id": "RwLORVCWGX_m"
   },
   "source": [
    "* Necessário fazer dummy com a variável turno de trabalho:"
   ]
  },
  {
   "cell_type": "code",
   "execution_count": null,
   "metadata": {
    "id": "g1-r1j5FGcC3"
   },
   "outputs": [],
   "source": [
    "turno_manha = {'M':1, 'T':0}\n",
    "\n",
    "df['turno_manha'] = df['Turno'].map(turno_manha) "
   ]
  },
  {
   "cell_type": "code",
   "execution_count": null,
   "metadata": {
    "id": "g3UsrA0HGylt"
   },
   "outputs": [],
   "source": [
    "turno_tarde = {'M':0, 'T':1}\n",
    "\n",
    "df['turno_tarde'] = df['Turno'].map(turno_tarde) "
   ]
  },
  {
   "cell_type": "code",
   "execution_count": null,
   "metadata": {
    "id": "vvzPY3WxHEwg"
   },
   "outputs": [],
   "source": [
    "df.head()"
   ]
  },
  {
   "cell_type": "markdown",
   "metadata": {
    "id": "PV1UGQLpIY-A"
   },
   "source": [
    "## Extra"
   ]
  },
  {
   "cell_type": "markdown",
   "metadata": {
    "id": "5o4x9Uh2IdPK"
   },
   "source": [
    "Material sobre regressão linear do [MIT](http://www.mit.edu/~6.s085/notes/lecture3.pdf)."
   ]
  },
  {
   "cell_type": "markdown",
   "metadata": {
    "id": "ucAs1wVoeSKp"
   },
   "source": [
    "Outras métricas que podemos utilizar para avaliarmos nossos modelos ([Texto](https://medium.com/turing-talks/como-avaliar-seu-modelo-de-regress%C3%A3o-c2c8d73dab96))."
   ]
  }
 ],
 "metadata": {
  "colab": {
   "name": "[HARVE] [EXERCÍCIOS]_Analise_Descritiva_Perguntas.ipynb",
   "provenance": [],
   "toc_visible": true
  },
  "kernelspec": {
   "display_name": "Python 3",
   "language": "python",
   "name": "python3"
  },
  "language_info": {
   "codemirror_mode": {
    "name": "ipython",
    "version": 3
   },
   "file_extension": ".py",
   "mimetype": "text/x-python",
   "name": "python",
   "nbconvert_exporter": "python",
   "pygments_lexer": "ipython3",
   "version": "3.8.5"
  }
 },
 "nbformat": 4,
 "nbformat_minor": 1
}
