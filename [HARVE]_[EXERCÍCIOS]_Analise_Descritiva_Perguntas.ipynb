{
 "cells": [
  {
   "cell_type": "markdown",
   "metadata": {
    "id": "t1ODUbV4kwRv"
   },
   "source": [
    "\n",
    "\n",
    "### Aula 1\n",
    "\n"
   ]
  },
  {
   "cell_type": "markdown",
   "metadata": {
    "id": "aqF9hTnSlpdy"
   },
   "source": [
    "1 - Numa amostra de 8 funcionários de uma empresa observou-se duas variáveis: anos de trabalho e número de promoções recebidas. Calcule a correlação entre elas:"
   ]
  },
  {
   "cell_type": "code",
   "execution_count": 1,
   "metadata": {
    "id": "TZrFYvqkkl91"
   },
   "outputs": [],
   "source": [
    "import pandas as pd\n",
    "\n",
    "dados = {'promocoes' : [2,2,1,2,0,3,1,0],\n",
    "         'anos_de_trabalho' : [5,6,6,7,7,8,8,8]}\n",
    "\n",
    "df = pd.DataFrame(dados)"
   ]
  },
  {
   "cell_type": "code",
   "execution_count": 2,
   "metadata": {},
   "outputs": [
    {
     "data": {
      "text/html": [
       "<div>\n",
       "<style scoped>\n",
       "    .dataframe tbody tr th:only-of-type {\n",
       "        vertical-align: middle;\n",
       "    }\n",
       "\n",
       "    .dataframe tbody tr th {\n",
       "        vertical-align: top;\n",
       "    }\n",
       "\n",
       "    .dataframe thead th {\n",
       "        text-align: right;\n",
       "    }\n",
       "</style>\n",
       "<table border=\"1\" class=\"dataframe\">\n",
       "  <thead>\n",
       "    <tr style=\"text-align: right;\">\n",
       "      <th></th>\n",
       "      <th>promocoes</th>\n",
       "      <th>anos_de_trabalho</th>\n",
       "    </tr>\n",
       "  </thead>\n",
       "  <tbody>\n",
       "    <tr>\n",
       "      <th>promocoes</th>\n",
       "      <td>1.000000</td>\n",
       "      <td>-0.194377</td>\n",
       "    </tr>\n",
       "    <tr>\n",
       "      <th>anos_de_trabalho</th>\n",
       "      <td>-0.194377</td>\n",
       "      <td>1.000000</td>\n",
       "    </tr>\n",
       "  </tbody>\n",
       "</table>\n",
       "</div>"
      ],
      "text/plain": [
       "                  promocoes  anos_de_trabalho\n",
       "promocoes          1.000000         -0.194377\n",
       "anos_de_trabalho  -0.194377          1.000000"
      ]
     },
     "execution_count": 2,
     "metadata": {},
     "output_type": "execute_result"
    }
   ],
   "source": [
    "df.corr()"
   ]
  },
  {
   "cell_type": "markdown",
   "metadata": {
    "id": "KMcXhTqWqNrR"
   },
   "source": [
    "2 - Uma nutricionista procurou avaliar se a massa muscular (Y) de um conjunto de pacientes diminuía com a idade (X).  Calcule o coeficiente de correlação linear dessa relação."
   ]
  },
  {
   "cell_type": "code",
   "execution_count": 3,
   "metadata": {
    "id": "WOGEA9I8qNMe"
   },
   "outputs": [],
   "source": [
    "import numpy as np\n",
    "\n",
    "massa_muscular = np.array([82,91,100,68,87,73,78,80,65,84,116,76,97,100,105,77,73,78])\n",
    "idade = np.array([71,64,43,67,56,73,68,56,76,65,45,58,45,53,49,78,73,68])"
   ]
  },
  {
   "cell_type": "code",
   "execution_count": 4,
   "metadata": {},
   "outputs": [
    {
     "data": {
      "text/html": [
       "<div>\n",
       "<style scoped>\n",
       "    .dataframe tbody tr th:only-of-type {\n",
       "        vertical-align: middle;\n",
       "    }\n",
       "\n",
       "    .dataframe tbody tr th {\n",
       "        vertical-align: top;\n",
       "    }\n",
       "\n",
       "    .dataframe thead th {\n",
       "        text-align: right;\n",
       "    }\n",
       "</style>\n",
       "<table border=\"1\" class=\"dataframe\">\n",
       "  <thead>\n",
       "    <tr style=\"text-align: right;\">\n",
       "      <th></th>\n",
       "      <th>massa_muscular</th>\n",
       "      <th>idade</th>\n",
       "    </tr>\n",
       "  </thead>\n",
       "  <tbody>\n",
       "    <tr>\n",
       "      <th>massa_muscular</th>\n",
       "      <td>1.000000</td>\n",
       "      <td>-0.836677</td>\n",
       "    </tr>\n",
       "    <tr>\n",
       "      <th>idade</th>\n",
       "      <td>-0.836677</td>\n",
       "      <td>1.000000</td>\n",
       "    </tr>\n",
       "  </tbody>\n",
       "</table>\n",
       "</div>"
      ],
      "text/plain": [
       "                massa_muscular     idade\n",
       "massa_muscular        1.000000 -0.836677\n",
       "idade                -0.836677  1.000000"
      ]
     },
     "execution_count": 4,
     "metadata": {},
     "output_type": "execute_result"
    }
   ],
   "source": [
    "df = pd.DataFrame({\"massa_muscular\":massa_muscular,\"idade\":idade})\n",
    "df.corr()"
   ]
  },
  {
   "cell_type": "markdown",
   "metadata": {
    "id": "DtHZVPc9rHdR"
   },
   "source": [
    "3 - Foram coletadas as informações de uma amostra de famílias para entender quantos cartões de créditos elas possuem e quais variáveis explicam isto:"
   ]
  },
  {
   "cell_type": "code",
   "execution_count": 5,
   "metadata": {
    "id": "rwJtw6KPrHID"
   },
   "outputs": [],
   "source": [
    "import pandas as pd\n",
    "\n",
    "dados = {'id_familia':[1,2,3,4,5,6,7,8],\n",
    "         'n_cartoes': [4,6,6,7,8,7,8,10],\n",
    "         'tamanho_familia': [2,2,4,4,5,5,6,6],\n",
    "         'renda_familiar':[14,16,14,17,18,21,17,25],\n",
    "         'num_automoveis': [1,2,2,1,3,2,1,2]}\n",
    "\n",
    "df = pd.DataFrame(dados)"
   ]
  },
  {
   "cell_type": "markdown",
   "metadata": {
    "id": "EYgutLxpUhj-"
   },
   "source": [
    "- Correlações:"
   ]
  },
  {
   "cell_type": "code",
   "execution_count": 6,
   "metadata": {},
   "outputs": [
    {
     "data": {
      "text/html": [
       "<div>\n",
       "<style scoped>\n",
       "    .dataframe tbody tr th:only-of-type {\n",
       "        vertical-align: middle;\n",
       "    }\n",
       "\n",
       "    .dataframe tbody tr th {\n",
       "        vertical-align: top;\n",
       "    }\n",
       "\n",
       "    .dataframe thead th {\n",
       "        text-align: right;\n",
       "    }\n",
       "</style>\n",
       "<table border=\"1\" class=\"dataframe\">\n",
       "  <thead>\n",
       "    <tr style=\"text-align: right;\">\n",
       "      <th></th>\n",
       "      <th>id_familia</th>\n",
       "      <th>n_cartoes</th>\n",
       "      <th>tamanho_familia</th>\n",
       "      <th>renda_familiar</th>\n",
       "      <th>num_automoveis</th>\n",
       "    </tr>\n",
       "  </thead>\n",
       "  <tbody>\n",
       "    <tr>\n",
       "      <th>id_familia</th>\n",
       "      <td>1.000000</td>\n",
       "      <td>0.921132</td>\n",
       "      <td>0.959024</td>\n",
       "      <td>0.821064</td>\n",
       "      <td>0.164957</td>\n",
       "    </tr>\n",
       "    <tr>\n",
       "      <th>n_cartoes</th>\n",
       "      <td>0.921132</td>\n",
       "      <td>1.000000</td>\n",
       "      <td>0.866400</td>\n",
       "      <td>0.829031</td>\n",
       "      <td>0.341882</td>\n",
       "    </tr>\n",
       "    <tr>\n",
       "      <th>tamanho_familia</th>\n",
       "      <td>0.959024</td>\n",
       "      <td>0.866400</td>\n",
       "      <td>1.000000</td>\n",
       "      <td>0.672685</td>\n",
       "      <td>0.191663</td>\n",
       "    </tr>\n",
       "    <tr>\n",
       "      <th>renda_familiar</th>\n",
       "      <td>0.821064</td>\n",
       "      <td>0.829031</td>\n",
       "      <td>0.672685</td>\n",
       "      <td>1.000000</td>\n",
       "      <td>0.300834</td>\n",
       "    </tr>\n",
       "    <tr>\n",
       "      <th>num_automoveis</th>\n",
       "      <td>0.164957</td>\n",
       "      <td>0.341882</td>\n",
       "      <td>0.191663</td>\n",
       "      <td>0.300834</td>\n",
       "      <td>1.000000</td>\n",
       "    </tr>\n",
       "  </tbody>\n",
       "</table>\n",
       "</div>"
      ],
      "text/plain": [
       "                 id_familia  n_cartoes  tamanho_familia  renda_familiar  \\\n",
       "id_familia         1.000000   0.921132         0.959024        0.821064   \n",
       "n_cartoes          0.921132   1.000000         0.866400        0.829031   \n",
       "tamanho_familia    0.959024   0.866400         1.000000        0.672685   \n",
       "renda_familiar     0.821064   0.829031         0.672685        1.000000   \n",
       "num_automoveis     0.164957   0.341882         0.191663        0.300834   \n",
       "\n",
       "                 num_automoveis  \n",
       "id_familia             0.164957  \n",
       "n_cartoes              0.341882  \n",
       "tamanho_familia        0.191663  \n",
       "renda_familiar         0.300834  \n",
       "num_automoveis         1.000000  "
      ]
     },
     "execution_count": 6,
     "metadata": {},
     "output_type": "execute_result"
    }
   ],
   "source": [
    "df.corr()"
   ]
  },
  {
   "cell_type": "markdown",
   "metadata": {
    "id": "AbgS8TWedu-f"
   },
   "source": [
    "* Exiba as correlações em gráficos:"
   ]
  },
  {
   "cell_type": "code",
   "execution_count": 7,
   "metadata": {},
   "outputs": [
    {
     "data": {
      "text/plain": [
       "<seaborn.axisgrid.PairGrid at 0x7f94c7f742b0>"
      ]
     },
     "execution_count": 7,
     "metadata": {},
     "output_type": "execute_result"
    },
    {
     "data": {
      "image/png": "[encoded data removed]",
      "text/plain": [
       "<Figure size 900x900 with 30 Axes>"
      ]
     },
     "metadata": {
      "needs_background": "light"
     },
     "output_type": "display_data"
    }
   ],
   "source": [
    "import seaborn as sns\n",
    "\n",
    "sns.pairplot(df)"
   ]
  },
  {
   "cell_type": "markdown",
   "metadata": {
    "id": "MrXzG-FFJDan"
   },
   "source": [
    "#Exercícios"
   ]
  },
  {
   "cell_type": "markdown",
   "metadata": {
    "id": "_8opFBVHVHbp"
   },
   "source": [
    "### Exercício 01"
   ]
  },
  {
   "cell_type": "markdown",
   "metadata": {
    "id": "ZiJ8xUp8VK2-"
   },
   "source": [
    "- Crie um modelo de Regressão Linear Simples para o Exercício 3 da Aula 01.\n",
    "\n",
    "**Dica**: para transformar uma série pandas em uma matriz coluna utilize\n",
    "\n",
    "`x = df[['minha_coluna_pandas']]`"
   ]
  },
  {
   "cell_type": "code",
   "execution_count": 8,
   "metadata": {
    "id": "KqD_qHY4l7ok"
   },
   "outputs": [],
   "source": [
    "import pandas as pd\n",
    "\n",
    "dados = {'id_familia':[1,2,3,4,5,6,7,8],\n",
    "         'n_cartoes': [4,6,6,7,8,7,8,10],\n",
    "         'tamanho_familia': [2,2,4,4,5,5,6,6],\n",
    "         'renda_familiar':[14,16,14,17,18,21,17,25],\n",
    "         'num_automoveis': [1,2,2,1,3,2,1,2]}\n",
    "\n",
    "df = pd.DataFrame(dados)"
   ]
  },
  {
   "cell_type": "code",
   "execution_count": 10,
   "metadata": {},
   "outputs": [
    {
     "name": "stdout",
     "output_type": "stream",
     "text": [
      "predicted values: [4.81428571 4.81428571 6.75714286 6.75714286 7.72857143 7.72857143\n",
      " 8.7        8.7       ]\n",
      "residual values: 0   -0.814286\n",
      "1    1.185714\n",
      "2   -0.757143\n",
      "3    0.242857\n",
      "4    0.271429\n",
      "5   -0.728571\n",
      "6   -0.700000\n",
      "7    1.300000\n",
      "dtype: float64\n",
      "residual mean: -3.3306690738754696e-15\n",
      "R2: 0.7506493506493508\n",
      "Adjusted R2: 0.7090909090909092\n",
      "b0: 2.8714285714285723\n",
      "b1: 0.971428571428572\n",
      "p-value: const              0.031508\n",
      "tamanho_familia    0.005380\n",
      "dtype: float64\n"
     ]
    }
   ],
   "source": [
    "#sigle linear regression\n",
    "import statsmodels.api as sm\n",
    "\n",
    "x = df['tamanho_familia'] #independent variable\n",
    "y = df['n_cartoes'] #dependent variable\n",
    "\n",
    "x = sm.add_constant(x)\n",
    "\n",
    "#creating the model\n",
    "model = sm.OLS(y,x).fit()\n",
    "\n",
    "#predicting values\n",
    "y_pred = model.predict(x)\n",
    "print(\"predicted response:\", y_pred)\n",
    "\n",
    "#calculating residual values\n",
    "res = model.resid\n",
    "print(\"residual response:\", res)\n",
    "print(\"residual mean:\", np.mean(res))\n",
    "\n",
    "#R2, adjusted R2, b0, b1, p-value\n",
    "print(\"R2:\", model.rsquared)\n",
    "\n",
    "print(\"Adjusted R2:\", model.rsquared_adj)\n",
    "\n",
    "print(\"b0:\", model.params[0])\n",
    "\n",
    "print(\"b1:\", model.params[1])\n",
    "\n",
    "print(\"p-value:\", model.pvalues)"
   ]
  },
  {
   "cell_type": "code",
   "execution_count": null,
   "metadata": {},
   "outputs": [],
   "source": [
    "#equation\n",
    "y = 2.87 + 0.97x1"
   ]
  },
  {
   "cell_type": "code",
   "execution_count": 12,
   "metadata": {},
   "outputs": [
    {
     "data": {
      "image/png": "[encoded data removed]",
      "text/plain": [
       "<Figure size 432x288 with 2 Axes>"
      ]
     },
     "metadata": {
      "needs_background": "light"
     },
     "output_type": "display_data"
    }
   ],
   "source": [
    "#plotting\n",
    "import matplotlib.pyplot as plt\n",
    "fig, ax = plt.subplots(2,1)\n",
    "#plotting residual value\n",
    "ax[0].scatter(x.tamanho_familia, res)\n",
    "\n",
    "#plotting linear regression\n",
    "ax[1].scatter(x.tamanho_familia, y)\n",
    "ax[1].plot(x.tamanho_familia, y_pred, color='r')\n",
    "\n",
    "plt.show()"
   ]
  },
  {
   "cell_type": "markdown",
   "metadata": {
    "id": "dVM197P-Eu75"
   },
   "source": [
    "### Exercício 02"
   ]
  },
  {
   "cell_type": "markdown",
   "metadata": {
    "id": "3LfG9JXe5C0z"
   },
   "source": [
    "- Crie um modelo de Regressão Linear Múltipla para o Exercício 3 da Aula 01."
   ]
  },
  {
   "cell_type": "code",
   "execution_count": 13,
   "metadata": {
    "id": "VVSgAGYuGnZz"
   },
   "outputs": [],
   "source": [
    "from sklearn.linear_model import LinearRegression\n",
    "from sklearn.metrics import r2_score"
   ]
  },
  {
   "cell_type": "code",
   "execution_count": 14,
   "metadata": {
    "id": "Tt4jSXkPG34J"
   },
   "outputs": [],
   "source": [
    "import pandas as pd\n",
    "\n",
    "dados = {'id_familia':[1,2,3,4,5,6,7,8],\n",
    "         'n_cartoes': [4,6,6,7,8,7,8,10],\n",
    "         'tamanho_familia': [2,2,4,4,5,5,6,6],\n",
    "         'renda_familiar':[14,16,14,17,18,21,17,25],\n",
    "         'num_automoveis': [1,2,2,1,3,2,1,2]}\n",
    "\n",
    "df = pd.DataFrame(dados)"
   ]
  },
  {
   "cell_type": "code",
   "execution_count": 27,
   "metadata": {},
   "outputs": [
    {
     "name": "stdout",
     "output_type": "stream",
     "text": [
      "coefficient of determination: 0.8613760556383507\n",
      "intercept: 0.4816939890710348\n",
      "slope: [0.63224044 0.21584699]\n",
      "predicted response:\n",
      "[4.76803279 5.19972678 6.03251366 6.68005464 7.52814208 8.17568306\n",
      " 7.94453552 9.67131148]\n"
     ]
    }
   ],
   "source": [
    "x = df[['tamanho_familia','renda_familiar']] #independent variable\n",
    "y = df['n_cartoes'] #dependent variable\n",
    "x=x.values.reshape((-1,2))\n",
    "\n",
    "model = LinearRegression().fit(x,y)\n",
    "\n",
    "\n",
    "r_sq = model.score(x, y)\n",
    "print('coefficient of determination:', r_sq)\n",
    "\n",
    "print('intercept:', model.intercept_)\n",
    "\n",
    "print('slope:', model.coef_)\n",
    "\n",
    "\n",
    "y_pred = model.predict(x)\n",
    "print('predicted response:', y_pred, sep='\\n')"
   ]
  },
  {
   "cell_type": "markdown",
   "metadata": {
    "id": "quvgs-V6cWee"
   },
   "source": [
    "Para os exercícios 03 a 10 defina:\n",
    "* Quais as correlações existentes?\n",
    "* (Quando Regressão Linear Múltipla) Existe colinearidade?\n",
    "* Quais as variáveis dependente e independente(s) do modelo?\n",
    "* Treine o modelo\n",
    "* Quais os valores para B0 e para os demais coeficientes?\n",
    "* Qual é a equação que descreve o comportamento dos dados?\n",
    "* Quais os valores de y previsto pelo modelo?\n",
    "* Quais os valores de resíduo do modelo?\n",
    "* Apresente o gráfico de dispersão do resíduo.\n",
    "* Quais os valores de R² e R² ajustado?\n",
    "* Quais as significâncias estatísticas dos B?"
   ]
  },
  {
   "cell_type": "markdown",
   "metadata": {
    "id": "gb64lmNpbVe3"
   },
   "source": [
    "### Exercício 03"
   ]
  },
  {
   "cell_type": "markdown",
   "metadata": {
    "id": "O13ePeUPslS8"
   },
   "source": [
    "Você consegue prever a nota de um estudante de acordo com a quantidade de horas que ele estudou para uma prova?"
   ]
  },
  {
   "cell_type": "code",
   "execution_count": 28,
   "metadata": {
    "id": "Vl_pEm4Ts7ru"
   },
   "outputs": [
    {
     "data": {
      "text/html": [
       "<div>\n",
       "<style scoped>\n",
       "    .dataframe tbody tr th:only-of-type {\n",
       "        vertical-align: middle;\n",
       "    }\n",
       "\n",
       "    .dataframe tbody tr th {\n",
       "        vertical-align: top;\n",
       "    }\n",
       "\n",
       "    .dataframe thead th {\n",
       "        text-align: right;\n",
       "    }\n",
       "</style>\n",
       "<table border=\"1\" class=\"dataframe\">\n",
       "  <thead>\n",
       "    <tr style=\"text-align: right;\">\n",
       "      <th></th>\n",
       "      <th>estudante</th>\n",
       "      <th>horas_estudo</th>\n",
       "      <th>notas</th>\n",
       "    </tr>\n",
       "  </thead>\n",
       "  <tbody>\n",
       "    <tr>\n",
       "      <th>0</th>\n",
       "      <td>0</td>\n",
       "      <td>1</td>\n",
       "      <td>53</td>\n",
       "    </tr>\n",
       "    <tr>\n",
       "      <th>1</th>\n",
       "      <td>1</td>\n",
       "      <td>5</td>\n",
       "      <td>74</td>\n",
       "    </tr>\n",
       "    <tr>\n",
       "      <th>2</th>\n",
       "      <td>2</td>\n",
       "      <td>7</td>\n",
       "      <td>59</td>\n",
       "    </tr>\n",
       "    <tr>\n",
       "      <th>3</th>\n",
       "      <td>3</td>\n",
       "      <td>8</td>\n",
       "      <td>43</td>\n",
       "    </tr>\n",
       "    <tr>\n",
       "      <th>4</th>\n",
       "      <td>4</td>\n",
       "      <td>10</td>\n",
       "      <td>56</td>\n",
       "    </tr>\n",
       "  </tbody>\n",
       "</table>\n",
       "</div>"
      ],
      "text/plain": [
       "   estudante  horas_estudo  notas\n",
       "0          0             1     53\n",
       "1          1             5     74\n",
       "2          2             7     59\n",
       "3          3             8     43\n",
       "4          4            10     56"
      ]
     },
     "execution_count": 28,
     "metadata": {},
     "output_type": "execute_result"
    }
   ],
   "source": [
    "import pandas as pd\n",
    "import numpy as np\n",
    "\n",
    "\n",
    "df = pd.DataFrame({'estudante': np.arange(10),\n",
    "                   'horas_estudo': [1,5,7,8,10,11,14,15,15,19],\n",
    "                   'notas': [53,74,59,43,56,84,96,69,84,83]})\n",
    "df.head()"
   ]
  },
  {
   "cell_type": "code",
   "execution_count": 29,
   "metadata": {},
   "outputs": [
    {
     "data": {
      "text/html": [
       "<div>\n",
       "<style scoped>\n",
       "    .dataframe tbody tr th:only-of-type {\n",
       "        vertical-align: middle;\n",
       "    }\n",
       "\n",
       "    .dataframe tbody tr th {\n",
       "        vertical-align: top;\n",
       "    }\n",
       "\n",
       "    .dataframe thead th {\n",
       "        text-align: right;\n",
       "    }\n",
       "</style>\n",
       "<table border=\"1\" class=\"dataframe\">\n",
       "  <thead>\n",
       "    <tr style=\"text-align: right;\">\n",
       "      <th></th>\n",
       "      <th>estudante</th>\n",
       "      <th>horas_estudo</th>\n",
       "      <th>notas</th>\n",
       "    </tr>\n",
       "  </thead>\n",
       "  <tbody>\n",
       "    <tr>\n",
       "      <th>estudante</th>\n",
       "      <td>1.000000</td>\n",
       "      <td>0.984970</td>\n",
       "      <td>0.624254</td>\n",
       "    </tr>\n",
       "    <tr>\n",
       "      <th>horas_estudo</th>\n",
       "      <td>0.984970</td>\n",
       "      <td>1.000000</td>\n",
       "      <td>0.627791</td>\n",
       "    </tr>\n",
       "    <tr>\n",
       "      <th>notas</th>\n",
       "      <td>0.624254</td>\n",
       "      <td>0.627791</td>\n",
       "      <td>1.000000</td>\n",
       "    </tr>\n",
       "  </tbody>\n",
       "</table>\n",
       "</div>"
      ],
      "text/plain": [
       "              estudante  horas_estudo     notas\n",
       "estudante      1.000000      0.984970  0.624254\n",
       "horas_estudo   0.984970      1.000000  0.627791\n",
       "notas          0.624254      0.627791  1.000000"
      ]
     },
     "execution_count": 29,
     "metadata": {},
     "output_type": "execute_result"
    }
   ],
   "source": [
    "df.corr()"
   ]
  },
  {
   "cell_type": "code",
   "execution_count": 30,
   "metadata": {},
   "outputs": [
    {
     "name": "stdout",
     "output_type": "stream",
     "text": [
      "predicted response: [51.44120983 59.29754253 63.22570888 65.18979206 69.11795841 71.08204159\n",
      " 76.97429112 78.93837429 78.93837429 86.79470699]\n",
      "residual response: 0     1.558790\n",
      "1    14.702457\n",
      "2    -4.225709\n",
      "3   -22.189792\n",
      "4   -13.117958\n",
      "5    12.917958\n",
      "6    19.025709\n",
      "7    -9.938374\n",
      "8     5.061626\n",
      "9    -3.794707\n",
      "dtype: float64\n",
      "residual mean: 1.2079226507921703e-14\n",
      "R2: 0.39412152258869315\n",
      "Adjusted R2: 0.3183867129122798\n",
      "b0: 49.477126654064264\n",
      "b1: 1.964083175803402\n",
      "p-value: const           0.001171\n",
      "horas_estudo    0.051972\n",
      "dtype: float64\n"
     ]
    }
   ],
   "source": [
    "#sigle linear regression\n",
    "import statsmodels.api as sm\n",
    "\n",
    "x = df['horas_estudo'] #independent variable\n",
    "y = df['notas'] #dependent variable\n",
    "\n",
    "x = sm.add_constant(x)\n",
    "\n",
    "#creating the model\n",
    "model = sm.OLS(y,x).fit()\n",
    "\n",
    "#predicting values\n",
    "y_pred = model.predict(x)\n",
    "print(\"predicted response:\", y_pred)\n",
    "\n",
    "#calculating residual values\n",
    "res = model.resid\n",
    "print(\"residual response:\", res)\n",
    "print(\"residual mean:\", np.mean(res))\n",
    "\n",
    "#R2, adjusted R2, b0, b1, p-value\n",
    "print(\"R2:\", model.rsquared)\n",
    "\n",
    "print(\"Adjusted R2:\", model.rsquared_adj)\n",
    "\n",
    "print(\"b0:\", model.params[0])\n",
    "\n",
    "print(\"b1:\", model.params[1])\n",
    "\n",
    "print(\"p-value:\", model.pvalues)"
   ]
  },
  {
   "cell_type": "code",
   "execution_count": null,
   "metadata": {},
   "outputs": [],
   "source": [
    "#equation\n",
    "y = 49.477 + 1.964x1"
   ]
  },
  {
   "cell_type": "code",
   "execution_count": 31,
   "metadata": {},
   "outputs": [
    {
     "data": {
      "image/png": "[encoded data removed]",
      "text/plain": [
       "<Figure size 432x288 with 2 Axes>"
      ]
     },
     "metadata": {
      "needs_background": "light"
     },
     "output_type": "display_data"
    }
   ],
   "source": [
    "#plotting\n",
    "import matplotlib.pyplot as plt\n",
    "fig, ax = plt.subplots(2,1)\n",
    "#plotting residual value\n",
    "ax[0].scatter(x.horas_estudo, res)\n",
    "\n",
    "#plotting linear regression\n",
    "ax[1].scatter(x.horas_estudo, y)\n",
    "ax[1].plot(x.horas_estudo, y_pred, color='r')\n",
    "\n",
    "plt.show()"
   ]
  },
  {
   "cell_type": "markdown",
   "metadata": {
    "id": "amIdB-DjlCwd"
   },
   "source": [
    "### Exercício 04"
   ]
  },
  {
   "cell_type": "markdown",
   "metadata": {
    "id": "iGUCQWpOlFmj"
   },
   "source": [
    "(MATTAR,2001) Uma empresa produtora de bens de consumo de massa levantou um histórico de dez anos das vendas, em milhares de unidades, de um produto, os investimentos, em milhões de reais, em comunicação( propaganda, promoção de vendas, etc.) e o número de vendedores para o mesmo produto. Crie um modelo de regressão linear para prever as vendas da empresa. "
   ]
  },
  {
   "cell_type": "code",
   "execution_count": 32,
   "metadata": {
    "id": "mUWzUjkmmSvR"
   },
   "outputs": [
    {
     "data": {
      "text/html": [
       "<div>\n",
       "<style scoped>\n",
       "    .dataframe tbody tr th:only-of-type {\n",
       "        vertical-align: middle;\n",
       "    }\n",
       "\n",
       "    .dataframe tbody tr th {\n",
       "        vertical-align: top;\n",
       "    }\n",
       "\n",
       "    .dataframe thead th {\n",
       "        text-align: right;\n",
       "    }\n",
       "</style>\n",
       "<table border=\"1\" class=\"dataframe\">\n",
       "  <thead>\n",
       "    <tr style=\"text-align: right;\">\n",
       "      <th></th>\n",
       "      <th>ano</th>\n",
       "      <th>comunicacao</th>\n",
       "      <th>num_vendedores</th>\n",
       "      <th>vendas</th>\n",
       "    </tr>\n",
       "  </thead>\n",
       "  <tbody>\n",
       "    <tr>\n",
       "      <th>0</th>\n",
       "      <td>1983</td>\n",
       "      <td>9.5</td>\n",
       "      <td>10</td>\n",
       "      <td>95</td>\n",
       "    </tr>\n",
       "    <tr>\n",
       "      <th>1</th>\n",
       "      <td>1984</td>\n",
       "      <td>6.5</td>\n",
       "      <td>8</td>\n",
       "      <td>60</td>\n",
       "    </tr>\n",
       "    <tr>\n",
       "      <th>2</th>\n",
       "      <td>1985</td>\n",
       "      <td>7.0</td>\n",
       "      <td>9</td>\n",
       "      <td>60</td>\n",
       "    </tr>\n",
       "    <tr>\n",
       "      <th>3</th>\n",
       "      <td>1986</td>\n",
       "      <td>8.0</td>\n",
       "      <td>12</td>\n",
       "      <td>80</td>\n",
       "    </tr>\n",
       "    <tr>\n",
       "      <th>4</th>\n",
       "      <td>1987</td>\n",
       "      <td>7.5</td>\n",
       "      <td>15</td>\n",
       "      <td>80</td>\n",
       "    </tr>\n",
       "  </tbody>\n",
       "</table>\n",
       "</div>"
      ],
      "text/plain": [
       "    ano  comunicacao  num_vendedores  vendas\n",
       "0  1983          9.5              10      95\n",
       "1  1984          6.5               8      60\n",
       "2  1985          7.0               9      60\n",
       "3  1986          8.0              12      80\n",
       "4  1987          7.5              15      80"
      ]
     },
     "execution_count": 32,
     "metadata": {},
     "output_type": "execute_result"
    }
   ],
   "source": [
    "import pandas as pd\n",
    "\n",
    "df = pd.DataFrame({'ano': [1983,1984,1985,1986,1987,1989,1990,1991,1992,1993],\n",
    "                   'comunicacao': [9.5,6.5,7.0,8.0,7.5,8.5,7.5,5.5,8.0,6.0],\n",
    "                   'num_vendedores': [10,8,9,12,15,11,13,7,15,10],\n",
    "                   'vendas':[95,60,60,80,80,80,85,60,85,65]})\n",
    "df.head()"
   ]
  },
  {
   "cell_type": "code",
   "execution_count": 34,
   "metadata": {},
   "outputs": [
    {
     "data": {
      "text/plain": [
       "0.47269251368548243"
      ]
     },
     "execution_count": 34,
     "metadata": {},
     "output_type": "execute_result"
    }
   ],
   "source": [
    "df.corr()\n",
    "\n",
    "#no collinearity\n",
    "df.comunicacao.corr(df.num_vendedores)"
   ]
  },
  {
   "cell_type": "code",
   "execution_count": 36,
   "metadata": {},
   "outputs": [
    {
     "name": "stdout",
     "output_type": "stream",
     "text": [
      "predicted response: [89.58162067 63.57163829 68.91368174 81.10833823 81.80857311 83.42924251\n",
      " 78.78743394 54.39812096 85.64004698 62.76130358]\n",
      "residual response: 0    5.418379\n",
      "1   -3.571638\n",
      "2   -8.913682\n",
      "3   -1.108338\n",
      "4   -1.808573\n",
      "5   -3.429243\n",
      "6    6.212566\n",
      "7    5.601879\n",
      "8   -0.640047\n",
      "9    2.238696\n",
      "dtype: float64\n",
      "residual mean: -1.1368683772161604e-14\n",
      "R2: 0.8529471318363133\n",
      "Adjusted R2: 0.8109320266466885\n",
      "intercept: 1.6779213153259178\n",
      "slope: comunicacao       7.662948\n",
      "num_vendedores    1.510570\n",
      "dtype: float64\n",
      "p-value: const             0.890223\n",
      "comunicacao       0.003178\n",
      "num_vendedores    0.087033\n",
      "dtype: float64\n"
     ]
    }
   ],
   "source": [
    "#multiple linear regression\n",
    "\n",
    "x = df[[\"comunicacao\",\"num_vendedores\"]] #independent variable\n",
    "y = df[\"vendas\"] #dependent variable\n",
    "\n",
    "x = sm.add_constant(x)\n",
    "\n",
    "#creating the model\n",
    "model = sm.OLS(y,x).fit()\n",
    "\n",
    "#predicting values\n",
    "y_pred = model.predict(x)\n",
    "print(\"predicted response:\", y_pred)\n",
    "\n",
    "#calculating residual values\n",
    "res = model.resid\n",
    "print(\"residual response:\", res)\n",
    "print(\"residual mean:\", np.mean(res))\n",
    "\n",
    "#R2, adjusted R2, b0, b1, p-value\n",
    "print(\"R2:\", model.rsquared)\n",
    "\n",
    "print(\"Adjusted R2:\", model.rsquared_adj)\n",
    "\n",
    "print(\"intercept:\", model.params[0])\n",
    "\n",
    "print(\"slope:\", model.params[1:])\n",
    "\n",
    "print(\"p-value:\", model.pvalues)"
   ]
  },
  {
   "cell_type": "code",
   "execution_count": null,
   "metadata": {},
   "outputs": [],
   "source": [
    "#equation\n",
    "y = 1.678 + 7.663x1 + 1.511x2"
   ]
  },
  {
   "cell_type": "code",
   "execution_count": 37,
   "metadata": {},
   "outputs": [
    {
     "data": {
      "image/png": "[encoded data removed]",
      "text/plain": [
       "<Figure size 432x288 with 2 Axes>"
      ]
     },
     "metadata": {
      "needs_background": "light"
     },
     "output_type": "display_data"
    }
   ],
   "source": [
    "#plotting\n",
    "fig, ax = plt.subplots(2,1)\n",
    "#plotting residual value\n",
    "ax[0].scatter(x.comunicacao, res)\n",
    "ax[1].scatter(x.num_vendedores, res)\n",
    "\n",
    "\n",
    "plt.show()"
   ]
  },
  {
   "cell_type": "markdown",
   "metadata": {
    "id": "_BLhd35TMTFM"
   },
   "source": [
    "### Exercício 05 "
   ]
  },
  {
   "cell_type": "markdown",
   "metadata": {
    "id": "z6jf-rOQMVcy"
   },
   "source": [
    "Crie um modelo de Regressão Linear para prever o preço do índice de ações considerando as duas possíveis variáveis de entrada:\n",
    "\n",
    "* Taxa de juro\n",
    "* Taxa de desemprego"
   ]
  },
  {
   "cell_type": "code",
   "execution_count": 38,
   "metadata": {
    "id": "y5UwWci9MSog"
   },
   "outputs": [
    {
     "data": {
      "text/html": [
       "<div>\n",
       "<style scoped>\n",
       "    .dataframe tbody tr th:only-of-type {\n",
       "        vertical-align: middle;\n",
       "    }\n",
       "\n",
       "    .dataframe tbody tr th {\n",
       "        vertical-align: top;\n",
       "    }\n",
       "\n",
       "    .dataframe thead th {\n",
       "        text-align: right;\n",
       "    }\n",
       "</style>\n",
       "<table border=\"1\" class=\"dataframe\">\n",
       "  <thead>\n",
       "    <tr style=\"text-align: right;\">\n",
       "      <th></th>\n",
       "      <th>ano</th>\n",
       "      <th>mes</th>\n",
       "      <th>taxa_juro</th>\n",
       "      <th>taxa_desemprego</th>\n",
       "      <th>preco_indice_acoes</th>\n",
       "    </tr>\n",
       "  </thead>\n",
       "  <tbody>\n",
       "    <tr>\n",
       "      <th>0</th>\n",
       "      <td>2017</td>\n",
       "      <td>12</td>\n",
       "      <td>2.75</td>\n",
       "      <td>5.3</td>\n",
       "      <td>1464</td>\n",
       "    </tr>\n",
       "    <tr>\n",
       "      <th>1</th>\n",
       "      <td>2017</td>\n",
       "      <td>11</td>\n",
       "      <td>2.50</td>\n",
       "      <td>5.3</td>\n",
       "      <td>1394</td>\n",
       "    </tr>\n",
       "    <tr>\n",
       "      <th>2</th>\n",
       "      <td>2017</td>\n",
       "      <td>10</td>\n",
       "      <td>2.50</td>\n",
       "      <td>5.3</td>\n",
       "      <td>1357</td>\n",
       "    </tr>\n",
       "    <tr>\n",
       "      <th>3</th>\n",
       "      <td>2017</td>\n",
       "      <td>9</td>\n",
       "      <td>2.50</td>\n",
       "      <td>5.3</td>\n",
       "      <td>1293</td>\n",
       "    </tr>\n",
       "    <tr>\n",
       "      <th>4</th>\n",
       "      <td>2017</td>\n",
       "      <td>8</td>\n",
       "      <td>2.50</td>\n",
       "      <td>5.4</td>\n",
       "      <td>1256</td>\n",
       "    </tr>\n",
       "  </tbody>\n",
       "</table>\n",
       "</div>"
      ],
      "text/plain": [
       "    ano  mes  taxa_juro  taxa_desemprego  preco_indice_acoes\n",
       "0  2017   12       2.75              5.3                1464\n",
       "1  2017   11       2.50              5.3                1394\n",
       "2  2017   10       2.50              5.3                1357\n",
       "3  2017    9       2.50              5.3                1293\n",
       "4  2017    8       2.50              5.4                1256"
      ]
     },
     "execution_count": 38,
     "metadata": {},
     "output_type": "execute_result"
    }
   ],
   "source": [
    "import pandas as pd\n",
    "\n",
    "mercado_de_acoes = {'ano': [2017,2017,2017,2017,2017,2017,2017,2017,2017,2017,2017,2017,2016,2016,2016,2016,2016,2016,2016,2016,2016,2016,2016,2016],\n",
    "                'mes': [12, 11,10,9,8,7,6,5,4,3,2,1,12,11,10,9,8,7,6,5,4,3,2,1],\n",
    "                'taxa_juro': [2.75,2.5,2.5,2.5,2.5,2.5,2.5,2.25,2.25,2.25,2,2,2,1.75,1.75,1.75,1.75,1.75,1.75,1.75,1.75,1.75,1.75,1.75],\n",
    "                'taxa_desemprego': [5.3,5.3,5.3,5.3,5.4,5.6,5.5,5.5,5.5,5.6,5.7,5.9,6,5.9,5.8,6.1,6.2,6.1,6.1,6.1,5.9,6.2,6.2,6.1],\n",
    "                'preco_indice_acoes': [1464,1394,1357,1293,1256,1254,1234,1195,1159,1167,1130,1075,1047,965,943,958,971,949,884,866,876,822,704,719]        \n",
    "                }\n",
    "\n",
    "df = pd.DataFrame(mercado_de_acoes,columns=['ano','mes','taxa_juro','taxa_desemprego','preco_indice_acoes']) \n",
    "\n",
    "df.head()"
   ]
  },
  {
   "cell_type": "code",
   "execution_count": 40,
   "metadata": {},
   "outputs": [
    {
     "data": {
      "text/plain": [
       "-0.925813677330288"
      ]
     },
     "execution_count": 40,
     "metadata": {},
     "output_type": "execute_result"
    }
   ],
   "source": [
    "df.corr()\n",
    "#there is collinearity\n",
    "df.taxa_juro.corr(df.taxa_desemprego)"
   ]
  },
  {
   "cell_type": "code",
   "execution_count": 42,
   "metadata": {},
   "outputs": [
    {
     "name": "stdout",
     "output_type": "stream",
     "text": [
      "predicted response: 0     1422.862389\n",
      "1     1336.477367\n",
      "2     1336.477367\n",
      "3     1336.477367\n",
      "4     1311.462710\n",
      "5     1261.433395\n",
      "6     1286.448053\n",
      "7     1200.063031\n",
      "8     1200.063031\n",
      "9     1175.048374\n",
      "10    1063.648695\n",
      "11    1013.619381\n",
      "12     988.604723\n",
      "13     927.234359\n",
      "14     952.249016\n",
      "15     877.205045\n",
      "16     852.190387\n",
      "17     877.205045\n",
      "18     877.205045\n",
      "19     877.205045\n",
      "20     927.234359\n",
      "21     852.190387\n",
      "22     852.190387\n",
      "23     877.205045\n",
      "dtype: float64\n",
      "residual response: 0      41.137611\n",
      "1      57.522633\n",
      "2      20.522633\n",
      "3     -43.477367\n",
      "4     -55.462710\n",
      "5      -7.433395\n",
      "6     -52.448053\n",
      "7      -5.063031\n",
      "8     -41.063031\n",
      "9      -8.048374\n",
      "10     66.351305\n",
      "11     61.380619\n",
      "12     58.395277\n",
      "13     37.765641\n",
      "14     -9.249016\n",
      "15     80.794955\n",
      "16    118.809613\n",
      "17     71.794955\n",
      "18      6.794955\n",
      "19    -11.205045\n",
      "20    -51.234359\n",
      "21    -30.190387\n",
      "22   -148.190387\n",
      "23   -158.205045\n",
      "dtype: float64\n",
      "residual mean: -7.958078640513122e-13\n",
      "R2: 0.8976335894170215\n",
      "Adjusted R2: 0.8878844074567379\n",
      "intercept: 1798.403977625845\n",
      "slope: taxa_juro          345.540087\n",
      "taxa_desemprego   -250.146571\n",
      "dtype: float64\n",
      "p-value: const              0.058612\n",
      "taxa_juro          0.005389\n",
      "taxa_desemprego    0.046013\n",
      "dtype: float64\n"
     ]
    }
   ],
   "source": [
    "#multiple linear regression\n",
    "\n",
    "x = df[[\"taxa_juro\",\"taxa_desemprego\"]] #independent variable\n",
    "y = df[\"preco_indice_acoes\"] #dependent variable\n",
    "\n",
    "x = sm.add_constant(x)\n",
    "\n",
    "#creating the model\n",
    "model = sm.OLS(y,x).fit()\n",
    "\n",
    "#predicting values\n",
    "y_pred = model.predict(x)\n",
    "print(\"predicted response:\", y_pred)\n",
    "\n",
    "#calculating residual values\n",
    "res = model.resid\n",
    "print(\"residual response:\", res)\n",
    "print(\"residual mean:\", np.mean(res))\n",
    "\n",
    "#R2, adjusted R2, b0, b1, p-value\n",
    "print(\"R2:\", model.rsquared)\n",
    "\n",
    "print(\"Adjusted R2:\", model.rsquared_adj)\n",
    "\n",
    "print(\"intercept:\", model.params[0])\n",
    "\n",
    "print(\"slope:\", model.params[1:])\n",
    "\n",
    "print(\"p-value:\", model.pvalues)"
   ]
  },
  {
   "cell_type": "code",
   "execution_count": null,
   "metadata": {},
   "outputs": [],
   "source": [
    "#equation\n",
    "y = 1798.40 + 345.54x1 - 250.15x2"
   ]
  },
  {
   "cell_type": "code",
   "execution_count": 43,
   "metadata": {},
   "outputs": [
    {
     "data": {
      "image/png": "[encoded data removed]",
      "text/plain": [
       "<Figure size 432x288 with 2 Axes>"
      ]
     },
     "metadata": {
      "needs_background": "light"
     },
     "output_type": "display_data"
    }
   ],
   "source": [
    "#plotting\n",
    "fig, ax = plt.subplots(2,1)\n",
    "#plotting residual value\n",
    "ax[0].scatter(x.taxa_juro, res)\n",
    "ax[1].scatter(x.taxa_desemprego, res)\n",
    "\n",
    "\n",
    "plt.show()"
   ]
  },
  {
   "cell_type": "markdown",
   "metadata": {
    "id": "RuyDRYWgycMi"
   },
   "source": [
    "### Exercício 06 "
   ]
  },
  {
   "cell_type": "markdown",
   "metadata": {
    "id": "EyW2avMj0VAt"
   },
   "source": [
    "Considere um experimento em que se analisa a octanagem da gasolina em função da adição de um novo aditivo (em %). Descreva um modelo de regressão linear para descrever esse comportamento. "
   ]
  },
  {
   "cell_type": "code",
   "execution_count": 44,
   "metadata": {
    "id": "BHxYLKjn0PjQ"
   },
   "outputs": [
    {
     "data": {
      "text/html": [
       "<div>\n",
       "<style scoped>\n",
       "    .dataframe tbody tr th:only-of-type {\n",
       "        vertical-align: middle;\n",
       "    }\n",
       "\n",
       "    .dataframe tbody tr th {\n",
       "        vertical-align: top;\n",
       "    }\n",
       "\n",
       "    .dataframe thead th {\n",
       "        text-align: right;\n",
       "    }\n",
       "</style>\n",
       "<table border=\"1\" class=\"dataframe\">\n",
       "  <thead>\n",
       "    <tr style=\"text-align: right;\">\n",
       "      <th></th>\n",
       "      <th>octanagem</th>\n",
       "      <th>aditivo</th>\n",
       "    </tr>\n",
       "  </thead>\n",
       "  <tbody>\n",
       "    <tr>\n",
       "      <th>0</th>\n",
       "      <td>80.5</td>\n",
       "      <td>1</td>\n",
       "    </tr>\n",
       "    <tr>\n",
       "      <th>1</th>\n",
       "      <td>81.6</td>\n",
       "      <td>2</td>\n",
       "    </tr>\n",
       "    <tr>\n",
       "      <th>2</th>\n",
       "      <td>82.1</td>\n",
       "      <td>3</td>\n",
       "    </tr>\n",
       "    <tr>\n",
       "      <th>3</th>\n",
       "      <td>83.7</td>\n",
       "      <td>4</td>\n",
       "    </tr>\n",
       "    <tr>\n",
       "      <th>4</th>\n",
       "      <td>83.9</td>\n",
       "      <td>5</td>\n",
       "    </tr>\n",
       "  </tbody>\n",
       "</table>\n",
       "</div>"
      ],
      "text/plain": [
       "   octanagem  aditivo\n",
       "0       80.5        1\n",
       "1       81.6        2\n",
       "2       82.1        3\n",
       "3       83.7        4\n",
       "4       83.9        5"
      ]
     },
     "execution_count": 44,
     "metadata": {},
     "output_type": "execute_result"
    }
   ],
   "source": [
    "import pandas as pd\n",
    "\n",
    "df = pd.DataFrame({'octanagem':[80.5,81.6,82.1,83.7,83.9,85],\n",
    "                   'aditivo':[1,2,3,4,5,6]})\n",
    "df.head()"
   ]
  },
  {
   "cell_type": "code",
   "execution_count": 45,
   "metadata": {},
   "outputs": [
    {
     "data": {
      "text/html": [
       "<div>\n",
       "<style scoped>\n",
       "    .dataframe tbody tr th:only-of-type {\n",
       "        vertical-align: middle;\n",
       "    }\n",
       "\n",
       "    .dataframe tbody tr th {\n",
       "        vertical-align: top;\n",
       "    }\n",
       "\n",
       "    .dataframe thead th {\n",
       "        text-align: right;\n",
       "    }\n",
       "</style>\n",
       "<table border=\"1\" class=\"dataframe\">\n",
       "  <thead>\n",
       "    <tr style=\"text-align: right;\">\n",
       "      <th></th>\n",
       "      <th>octanagem</th>\n",
       "      <th>aditivo</th>\n",
       "    </tr>\n",
       "  </thead>\n",
       "  <tbody>\n",
       "    <tr>\n",
       "      <th>octanagem</th>\n",
       "      <td>1.000000</td>\n",
       "      <td>0.987441</td>\n",
       "    </tr>\n",
       "    <tr>\n",
       "      <th>aditivo</th>\n",
       "      <td>0.987441</td>\n",
       "      <td>1.000000</td>\n",
       "    </tr>\n",
       "  </tbody>\n",
       "</table>\n",
       "</div>"
      ],
      "text/plain": [
       "           octanagem   aditivo\n",
       "octanagem   1.000000  0.987441\n",
       "aditivo     0.987441  1.000000"
      ]
     },
     "execution_count": 45,
     "metadata": {},
     "output_type": "execute_result"
    }
   ],
   "source": [
    "df.corr()"
   ]
  },
  {
   "cell_type": "code",
   "execution_count": 46,
   "metadata": {},
   "outputs": [
    {
     "name": "stdout",
     "output_type": "stream",
     "text": [
      "predicted response: 0    0.968040\n",
      "1    2.178977\n",
      "2    2.729403\n",
      "3    4.490767\n",
      "4    4.710937\n",
      "5    5.921875\n",
      "dtype: float64\n",
      "residual response: 0    0.031960\n",
      "1   -0.178977\n",
      "2    0.270597\n",
      "3   -0.490767\n",
      "4    0.289063\n",
      "5    0.078125\n",
      "dtype: float64\n",
      "residual mean: 2.5294581244376484e-14\n",
      "R2: 0.9750405844155844\n",
      "Adjusted R2: 0.9688007305194805\n",
      "intercept: -87.65056818181894\n",
      "slope: octanagem    1.100852\n",
      "dtype: float64\n",
      "p-value: const        0.000275\n",
      "octanagem    0.000236\n",
      "dtype: float64\n"
     ]
    }
   ],
   "source": [
    "#simple linear regression\n",
    "\n",
    "x = df[[\"octanagem\"]] #independent variable\n",
    "y = df[\"aditivo\"] #dependent variable\n",
    "\n",
    "x = sm.add_constant(x)\n",
    "\n",
    "#creating the model\n",
    "model = sm.OLS(y,x).fit()\n",
    "\n",
    "#predicting values\n",
    "y_pred = model.predict(x)\n",
    "print(\"predicted response:\", y_pred)\n",
    "\n",
    "#calculating residual values\n",
    "res = model.resid\n",
    "print(\"residual response:\", res)\n",
    "print(\"residual mean:\", np.mean(res))\n",
    "\n",
    "#R2, adjusted R2, b0, b1, p-value\n",
    "print(\"R2:\", model.rsquared)\n",
    "\n",
    "print(\"Adjusted R2:\", model.rsquared_adj)\n",
    "\n",
    "print(\"intercept:\", model.params[0])\n",
    "\n",
    "print(\"slope:\", model.params[1:])\n",
    "\n",
    "print(\"p-value:\", model.pvalues)"
   ]
  },
  {
   "cell_type": "code",
   "execution_count": null,
   "metadata": {},
   "outputs": [],
   "source": [
    "#equation\n",
    "y = -87.65 + 1.1x1"
   ]
  },
  {
   "cell_type": "code",
   "execution_count": 47,
   "metadata": {},
   "outputs": [
    {
     "data": {
      "image/png": "[encoded data removed]",
      "text/plain": [
       "<Figure size 432x288 with 2 Axes>"
      ]
     },
     "metadata": {
      "needs_background": "light"
     },
     "output_type": "display_data"
    }
   ],
   "source": [
    "#plotting\n",
    "fig, ax = plt.subplots(2,1)\n",
    "#plotting residual value\n",
    "ax[0].scatter(x.octanagem, res)\n",
    "\n",
    "#plotting linear regression\n",
    "ax[1].scatter(x.octanagem, y)\n",
    "ax[1].plot(x.octanagem, y_pred, color='r')\n",
    "\n",
    "plt.show()"
   ]
  },
  {
   "cell_type": "markdown",
   "metadata": {
    "id": "eh20aPfj3Xok"
   },
   "source": [
    "### Exercício 07"
   ]
  },
  {
   "cell_type": "markdown",
   "metadata": {
    "id": "XrUfwXij3Zvh"
   },
   "source": [
    "Foram coletadas as informações de consumo de água e de temperatura em uma determinada empresa. Crie um modelo capaz de relacionar as variáveis."
   ]
  },
  {
   "cell_type": "code",
   "execution_count": 48,
   "metadata": {
    "id": "FUM4YVn16FXZ"
   },
   "outputs": [
    {
     "data": {
      "text/html": [
       "<div>\n",
       "<style scoped>\n",
       "    .dataframe tbody tr th:only-of-type {\n",
       "        vertical-align: middle;\n",
       "    }\n",
       "\n",
       "    .dataframe tbody tr th {\n",
       "        vertical-align: top;\n",
       "    }\n",
       "\n",
       "    .dataframe thead th {\n",
       "        text-align: right;\n",
       "    }\n",
       "</style>\n",
       "<table border=\"1\" class=\"dataframe\">\n",
       "  <thead>\n",
       "    <tr style=\"text-align: right;\">\n",
       "      <th></th>\n",
       "      <th>temperatura</th>\n",
       "      <th>consumo</th>\n",
       "    </tr>\n",
       "  </thead>\n",
       "  <tbody>\n",
       "    <tr>\n",
       "      <th>0</th>\n",
       "      <td>77</td>\n",
       "      <td>89</td>\n",
       "    </tr>\n",
       "    <tr>\n",
       "      <th>1</th>\n",
       "      <td>86</td>\n",
       "      <td>171</td>\n",
       "    </tr>\n",
       "    <tr>\n",
       "      <th>2</th>\n",
       "      <td>71</td>\n",
       "      <td>58</td>\n",
       "    </tr>\n",
       "    <tr>\n",
       "      <th>3</th>\n",
       "      <td>75</td>\n",
       "      <td>76</td>\n",
       "    </tr>\n",
       "    <tr>\n",
       "      <th>4</th>\n",
       "      <td>85</td>\n",
       "      <td>139</td>\n",
       "    </tr>\n",
       "  </tbody>\n",
       "</table>\n",
       "</div>"
      ],
      "text/plain": [
       "   temperatura  consumo\n",
       "0           77       89\n",
       "1           86      171\n",
       "2           71       58\n",
       "3           75       76\n",
       "4           85      139"
      ]
     },
     "execution_count": 48,
     "metadata": {},
     "output_type": "execute_result"
    }
   ],
   "source": [
    "import pandas as pd\n",
    "\n",
    "df = pd.DataFrame({'temperatura':[77,86,71,75,85,83,72,79,89,80,84,76],\n",
    "                   'consumo':[89,171,58,76,139,130,78,115,182,130,154,105]})\n",
    "df.head()"
   ]
  },
  {
   "cell_type": "code",
   "execution_count": 49,
   "metadata": {},
   "outputs": [
    {
     "data": {
      "text/html": [
       "<div>\n",
       "<style scoped>\n",
       "    .dataframe tbody tr th:only-of-type {\n",
       "        vertical-align: middle;\n",
       "    }\n",
       "\n",
       "    .dataframe tbody tr th {\n",
       "        vertical-align: top;\n",
       "    }\n",
       "\n",
       "    .dataframe thead th {\n",
       "        text-align: right;\n",
       "    }\n",
       "</style>\n",
       "<table border=\"1\" class=\"dataframe\">\n",
       "  <thead>\n",
       "    <tr style=\"text-align: right;\">\n",
       "      <th></th>\n",
       "      <th>temperatura</th>\n",
       "      <th>consumo</th>\n",
       "    </tr>\n",
       "  </thead>\n",
       "  <tbody>\n",
       "    <tr>\n",
       "      <th>temperatura</th>\n",
       "      <td>1.000000</td>\n",
       "      <td>0.967373</td>\n",
       "    </tr>\n",
       "    <tr>\n",
       "      <th>consumo</th>\n",
       "      <td>0.967373</td>\n",
       "      <td>1.000000</td>\n",
       "    </tr>\n",
       "  </tbody>\n",
       "</table>\n",
       "</div>"
      ],
      "text/plain": [
       "             temperatura   consumo\n",
       "temperatura     1.000000  0.967373\n",
       "consumo         0.967373  1.000000"
      ]
     },
     "execution_count": 49,
     "metadata": {},
     "output_type": "execute_result"
    }
   ],
   "source": [
    "df.corr()"
   ]
  },
  {
   "cell_type": "code",
   "execution_count": 50,
   "metadata": {},
   "outputs": [
    {
     "name": "stdout",
     "output_type": "stream",
     "text": [
      "predicted response: 0     100.744651\n",
      "1     160.216701\n",
      "2      61.096618\n",
      "3      87.528640\n",
      "4     153.608696\n",
      "5     140.392685\n",
      "6      67.704624\n",
      "7     113.960663\n",
      "8     180.040718\n",
      "9     120.568668\n",
      "10    147.000690\n",
      "11     94.136646\n",
      "dtype: float64\n",
      "residual response: 0    -11.744651\n",
      "1     10.783299\n",
      "2     -3.096618\n",
      "3    -11.528640\n",
      "4    -14.608696\n",
      "5    -10.392685\n",
      "6     10.295376\n",
      "7      1.039337\n",
      "8      1.959282\n",
      "9      9.431332\n",
      "10     6.999310\n",
      "11    10.863354\n",
      "dtype: float64\n",
      "residual mean: 5.565918096787451e-14\n",
      "R2: 0.9358096905964577\n",
      "Adjusted R2: 0.9293906596561035\n",
      "intercept: -408.07177363699134\n",
      "slope: temperatura    6.608006\n",
      "dtype: float64\n",
      "p-value: const          2.997284e-06\n",
      "temperatura    2.756770e-07\n",
      "dtype: float64\n"
     ]
    }
   ],
   "source": [
    "#simple linear regression\n",
    "\n",
    "x = df[[\"temperatura\"]] #independent variable\n",
    "y = df[\"consumo\"] #dependent variable\n",
    "\n",
    "x = sm.add_constant(x)\n",
    "\n",
    "#creating the model\n",
    "model = sm.OLS(y,x).fit()\n",
    "\n",
    "#predicting values\n",
    "y_pred = model.predict(x)\n",
    "print(\"predicted response:\", y_pred)\n",
    "\n",
    "#calculating residual values\n",
    "res = model.resid\n",
    "print(\"residual response:\", res)\n",
    "print(\"residual mean:\", np.mean(res))\n",
    "\n",
    "#R2, adjusted R2, b0, b1, p-value\n",
    "print(\"R2:\", model.rsquared)\n",
    "\n",
    "print(\"Adjusted R2:\", model.rsquared_adj)\n",
    "\n",
    "print(\"intercept:\", model.params[0])\n",
    "\n",
    "print(\"slope:\", model.params[1:])\n",
    "\n",
    "print(\"p-value:\", model.pvalues)"
   ]
  },
  {
   "cell_type": "code",
   "execution_count": null,
   "metadata": {},
   "outputs": [],
   "source": [
    "#equation \n",
    "y = -408.072 + 6.608x1"
   ]
  },
  {
   "cell_type": "code",
   "execution_count": 55,
   "metadata": {},
   "outputs": [
    {
     "data": {
      "image/png": "[encoded data removed]",
      "text/plain": [
       "<Figure size 432x288 with 2 Axes>"
      ]
     },
     "metadata": {
      "needs_background": "light"
     },
     "output_type": "display_data"
    }
   ],
   "source": [
    "#plotting\n",
    "fig, ax = plt.subplots(2,1)\n",
    "#plotting residual value\n",
    "ax[0].scatter(x.temperatura, res)\n",
    "\n",
    "#plotting linear regression\n",
    "ax[1].scatter(x.temperatura, y)\n",
    "ax[1].plot(x.temperatura, y_pred, color='r')\n",
    "\n",
    "plt.show()"
   ]
  },
  {
   "cell_type": "markdown",
   "metadata": {
    "id": "0EzZwoHW_FlM"
   },
   "source": [
    "### Exercício 08"
   ]
  },
  {
   "cell_type": "markdown",
   "metadata": {
    "id": "IBNC4BCe_Hhb"
   },
   "source": [
    "Um banco pretende estudar a relação entre o volume de vendas de seguros efetuadas durante um dado período de tempo por seus vendedores, considerando seus anos de experiência e seu score num teste de inteligência. "
   ]
  },
  {
   "cell_type": "code",
   "execution_count": 56,
   "metadata": {
    "id": "0xm-cBaAFXt8"
   },
   "outputs": [
    {
     "data": {
      "text/html": [
       "<div>\n",
       "<style scoped>\n",
       "    .dataframe tbody tr th:only-of-type {\n",
       "        vertical-align: middle;\n",
       "    }\n",
       "\n",
       "    .dataframe tbody tr th {\n",
       "        vertical-align: top;\n",
       "    }\n",
       "\n",
       "    .dataframe thead th {\n",
       "        text-align: right;\n",
       "    }\n",
       "</style>\n",
       "<table border=\"1\" class=\"dataframe\">\n",
       "  <thead>\n",
       "    <tr style=\"text-align: right;\">\n",
       "      <th></th>\n",
       "      <th>Vendedor</th>\n",
       "      <th>Vendas</th>\n",
       "      <th>Anos de experiencia</th>\n",
       "      <th>Score no Teste</th>\n",
       "      <th>interacao</th>\n",
       "    </tr>\n",
       "  </thead>\n",
       "  <tbody>\n",
       "    <tr>\n",
       "      <th>0</th>\n",
       "      <td>1</td>\n",
       "      <td>50</td>\n",
       "      <td>10</td>\n",
       "      <td>3</td>\n",
       "      <td>30</td>\n",
       "    </tr>\n",
       "    <tr>\n",
       "      <th>1</th>\n",
       "      <td>2</td>\n",
       "      <td>48</td>\n",
       "      <td>10</td>\n",
       "      <td>3</td>\n",
       "      <td>30</td>\n",
       "    </tr>\n",
       "    <tr>\n",
       "      <th>2</th>\n",
       "      <td>3</td>\n",
       "      <td>50</td>\n",
       "      <td>10</td>\n",
       "      <td>3</td>\n",
       "      <td>30</td>\n",
       "    </tr>\n",
       "    <tr>\n",
       "      <th>3</th>\n",
       "      <td>4</td>\n",
       "      <td>49</td>\n",
       "      <td>10</td>\n",
       "      <td>3</td>\n",
       "      <td>30</td>\n",
       "    </tr>\n",
       "    <tr>\n",
       "      <th>4</th>\n",
       "      <td>5</td>\n",
       "      <td>50</td>\n",
       "      <td>10</td>\n",
       "      <td>3</td>\n",
       "      <td>30</td>\n",
       "    </tr>\n",
       "  </tbody>\n",
       "</table>\n",
       "</div>"
      ],
      "text/plain": [
       "   Vendedor    Vendas   Anos de experiencia   Score no Teste  interacao\n",
       "0          1        50                    10               3         30\n",
       "1          2        48                    10               3         30\n",
       "2          3        50                    10               3         30\n",
       "3          4        49                    10               3         30\n",
       "4          5        50                    10               3         30"
      ]
     },
     "execution_count": 56,
     "metadata": {},
     "output_type": "execute_result"
    }
   ],
   "source": [
    "import pandas as pd\n",
    "\n",
    "df = pd.read_csv('https://raw.githubusercontent.com/brunamulinari/DataBasesPython/master/Exercicios/Exercicio%2010%20-%20RegMult.csv', delimiter=';',decimal=',')\n",
    "df.head()"
   ]
  },
  {
   "cell_type": "code",
   "execution_count": 58,
   "metadata": {},
   "outputs": [
    {
     "data": {
      "text/plain": [
       "0.13529707204813154"
      ]
     },
     "execution_count": 58,
     "metadata": {},
     "output_type": "execute_result"
    }
   ],
   "source": [
    "df.corr()\n",
    "#no collinearity\n",
    "df[\"Anos de experiencia \"].corr(df[\"Score no Teste\"])"
   ]
  },
  {
   "cell_type": "code",
   "execution_count": 59,
   "metadata": {},
   "outputs": [
    {
     "name": "stdout",
     "output_type": "stream",
     "text": [
      "predicted response: 0     44.989788\n",
      "1     44.989788\n",
      "2     44.989788\n",
      "3     44.989788\n",
      "4     44.989788\n",
      "5     37.639858\n",
      "6     37.639858\n",
      "7     37.639858\n",
      "8     37.639858\n",
      "9     37.639858\n",
      "10    31.507580\n",
      "11    31.507580\n",
      "12    31.507580\n",
      "13    21.217677\n",
      "14    21.217677\n",
      "15    21.217677\n",
      "16    24.157650\n",
      "17    24.157650\n",
      "18    37.639858\n",
      "19    37.639858\n",
      "20    18.025372\n",
      "21    18.025372\n",
      "22    10.675441\n",
      "23    10.675441\n",
      "24    10.675441\n",
      "25    21.217677\n",
      "26    21.217677\n",
      "27    21.217677\n",
      "28    10.675441\n",
      "29    10.675441\n",
      "dtype: float64\n",
      "residual response: 0      5.010212\n",
      "1      3.010212\n",
      "2      5.010212\n",
      "3      4.010212\n",
      "4      5.010212\n",
      "5      2.360142\n",
      "6      1.360142\n",
      "7      1.360142\n",
      "8      0.360142\n",
      "9      3.360142\n",
      "10    -1.507580\n",
      "11    -3.507580\n",
      "12    -4.507580\n",
      "13     3.782323\n",
      "14     4.782323\n",
      "15     0.782323\n",
      "16    -0.157650\n",
      "17    -3.157650\n",
      "18    -7.639858\n",
      "19   -13.639858\n",
      "20    -8.025372\n",
      "21    -7.025372\n",
      "22     4.324559\n",
      "23     5.324559\n",
      "24     6.324559\n",
      "25    -5.217677\n",
      "26    -3.217677\n",
      "27    -7.217677\n",
      "28     2.324559\n",
      "29     6.324559\n",
      "dtype: float64\n",
      "residual mean: 1.5987211554602254e-14\n",
      "R2: 0.8405562319941402\n",
      "Adjusted R2: 0.8287455825122246\n",
      "intercept: -10.156697891496512\n",
      "slope: Anos de experiencia      1.469986\n",
      "Score no Teste          13.482208\n",
      "dtype: float64\n",
      "p-value: const                   6.903875e-03\n",
      "Anos de experiencia     3.757599e-04\n",
      "Score no Teste          4.308865e-11\n",
      "dtype: float64\n"
     ]
    }
   ],
   "source": [
    "#multiple linear regression\n",
    "\n",
    "x = df[[\"Anos de experiencia \",\"Score no Teste\"]] #independent variable\n",
    "y = df[\" Vendas \"] #dependent variable\n",
    "\n",
    "x = sm.add_constant(x)\n",
    "\n",
    "#creating the model\n",
    "model = sm.OLS(y,x).fit()\n",
    "\n",
    "#predicting values\n",
    "y_pred = model.predict(x)\n",
    "print(\"predicted response:\", y_pred)\n",
    "\n",
    "#calculating residual values\n",
    "res = model.resid\n",
    "print(\"residual response:\", res)\n",
    "print(\"residual mean:\", np.mean(res))\n",
    "\n",
    "#R2, adjusted R2, b0, b1, p-value\n",
    "print(\"R2:\", model.rsquared)\n",
    "\n",
    "print(\"Adjusted R2:\", model.rsquared_adj)\n",
    "\n",
    "print(\"intercept:\", model.params[0])\n",
    "\n",
    "print(\"slope:\", model.params[1:])\n",
    "\n",
    "print(\"p-value:\", model.pvalues)"
   ]
  },
  {
   "cell_type": "code",
   "execution_count": null,
   "metadata": {},
   "outputs": [],
   "source": [
    "#equation\n",
    "y = -10.157 + 1.47x1 + 13.48x2"
   ]
  },
  {
   "cell_type": "code",
   "execution_count": 60,
   "metadata": {},
   "outputs": [
    {
     "data": {
      "image/png": "[encoded data removed]",
      "text/plain": [
       "<Figure size 432x288 with 2 Axes>"
      ]
     },
     "metadata": {
      "needs_background": "light"
     },
     "output_type": "display_data"
    }
   ],
   "source": [
    "#plotting\n",
    "fig, ax = plt.subplots(2,1)\n",
    "#plotting residual value\n",
    "ax[0].scatter(x[\"Anos de experiencia \"], res)\n",
    "ax[1].scatter(x[\"Score no Teste\"], res)\n",
    "\n",
    "\n",
    "plt.show()"
   ]
  },
  {
   "cell_type": "markdown",
   "metadata": {
    "id": "CLxHCgmn_J2z"
   },
   "source": [
    "### Exercício 09"
   ]
  },
  {
   "cell_type": "markdown",
   "metadata": {
    "id": "YuHpw6ek_TvV"
   },
   "source": [
    "Uma empresa pretende analisar os gastos de manutenção com sua frota de veículos de um  mesmo modelo considerando  a quilometragem inicial  do veículo e a diferença  dessa quilometragem desde a aquisição do automóvel."
   ]
  },
  {
   "cell_type": "code",
   "execution_count": 18,
   "metadata": {
    "id": "F8ApGlHdExGY"
   },
   "outputs": [
    {
     "data": {
      "text/html": [
       "<div>\n",
       "<style scoped>\n",
       "    .dataframe tbody tr th:only-of-type {\n",
       "        vertical-align: middle;\n",
       "    }\n",
       "\n",
       "    .dataframe tbody tr th {\n",
       "        vertical-align: top;\n",
       "    }\n",
       "\n",
       "    .dataframe thead th {\n",
       "        text-align: right;\n",
       "    }\n",
       "</style>\n",
       "<table border=\"1\" class=\"dataframe\">\n",
       "  <thead>\n",
       "    <tr style=\"text-align: right;\">\n",
       "      <th></th>\n",
       "      <th>KM_Inicial</th>\n",
       "      <th>Km_Diferenca</th>\n",
       "      <th>Total</th>\n",
       "      <th>interacao</th>\n",
       "    </tr>\n",
       "  </thead>\n",
       "  <tbody>\n",
       "    <tr>\n",
       "      <th>0</th>\n",
       "      <td>0</td>\n",
       "      <td>20695</td>\n",
       "      <td>770.727774</td>\n",
       "      <td>0</td>\n",
       "    </tr>\n",
       "    <tr>\n",
       "      <th>1</th>\n",
       "      <td>0</td>\n",
       "      <td>29413</td>\n",
       "      <td>1467.109762</td>\n",
       "      <td>0</td>\n",
       "    </tr>\n",
       "    <tr>\n",
       "      <th>2</th>\n",
       "      <td>0</td>\n",
       "      <td>16159</td>\n",
       "      <td>876.164237</td>\n",
       "      <td>0</td>\n",
       "    </tr>\n",
       "    <tr>\n",
       "      <th>3</th>\n",
       "      <td>0</td>\n",
       "      <td>22778</td>\n",
       "      <td>1369.385191</td>\n",
       "      <td>0</td>\n",
       "    </tr>\n",
       "    <tr>\n",
       "      <th>4</th>\n",
       "      <td>0</td>\n",
       "      <td>11829</td>\n",
       "      <td>582.068977</td>\n",
       "      <td>0</td>\n",
       "    </tr>\n",
       "  </tbody>\n",
       "</table>\n",
       "</div>"
      ],
      "text/plain": [
       "   KM_Inicial  Km_Diferenca        Total  interacao\n",
       "0           0         20695   770.727774          0\n",
       "1           0         29413  1467.109762          0\n",
       "2           0         16159   876.164237          0\n",
       "3           0         22778  1369.385191          0\n",
       "4           0         11829   582.068977          0"
      ]
     },
     "execution_count": 18,
     "metadata": {},
     "output_type": "execute_result"
    }
   ],
   "source": [
    "import pandas as pd\n",
    "\n",
    "df = pd.read_csv('https://raw.githubusercontent.com/brunamulinari/DataBasesPython/master/Exercicios/Exercicio%209%20-%20RegMult.csv', delimiter=';',decimal=',')\n",
    "df.head()"
   ]
  },
  {
   "cell_type": "code",
   "execution_count": 3,
   "metadata": {},
   "outputs": [
    {
     "data": {
      "text/plain": [
       "-0.12378246176408912"
      ]
     },
     "execution_count": 3,
     "metadata": {},
     "output_type": "execute_result"
    }
   ],
   "source": [
    "df.corr()\n",
    "\n",
    "#no collinearity\n",
    "df[\"KM_Inicial\"].corr(df[\"Km_Diferenca\"])"
   ]
  },
  {
   "cell_type": "code",
   "execution_count": 41,
   "metadata": {},
   "outputs": [],
   "source": [
    "#multiple linear regression\n",
    "import statsmodels.formula.api as sm\n",
    "import numpy as np\n",
    "x = df[[\"KM_Inicial\",\"Km_Diferenca\"]] #independent variable\n",
    "y = df[\"Total\"] #dependent variable\n",
    "\n",
    "#x = sm.add_constant(x.values.reshape((-1, 1)))\n",
    "\n",
    "#creating the model\n",
    "model = sm.ols(formula='Total ~ KM_Inicial + Km_Diferenca', data=df)\n",
    "results_formula = model.fit()\n",
    "\n",
    "# #predicting values\n",
    "# y_pred = model.predict(x)\n",
    "# print(\"predicted response:\", y_pred)\n",
    "\n",
    "# #calculating residual values\n",
    "# res = model.resid\n",
    "# print(\"residual response:\", res)\n",
    "# print(\"residual mean:\", np.mean(res))\n",
    "\n",
    "# #R2, adjusted R2, b0, b1, p-value\n",
    "# print(\"R2:\", model.rsquared)\n",
    "\n",
    "# print(\"Adjusted R2:\", model.rsquared_adj)\n",
    "\n",
    "# print(\"intercept:\", model.params[0])\n",
    "\n",
    "# print(\"slope:\", model.params[1:])\n",
    "\n",
    "# print(\"p-value:\", model.pvalues)"
   ]
  },
  {
   "cell_type": "code",
   "execution_count": null,
   "metadata": {},
   "outputs": [],
   "source": [
    "#equation\n",
    "y = -109.25 + 0.036x1 + 0.056x2"
   ]
  },
  {
   "cell_type": "code",
   "execution_count": 9,
   "metadata": {},
   "outputs": [
    {
     "data": {
      "image/png": "[encoded data removed]",
      "text/plain": [
       "<Figure size 432x288 with 2 Axes>"
      ]
     },
     "metadata": {
      "needs_background": "light"
     },
     "output_type": "display_data"
    }
   ],
   "source": [
    "#plotting\n",
    "import matplotlib.pyplot as plt\n",
    "fig, ax = plt.subplots(2,1)\n",
    "#plotting residual value\n",
    "ax[0].scatter(x[\"KM_Inicial\"], res)\n",
    "ax[1].scatter(x[\"Km_Diferenca\"], res)\n",
    "\n",
    "\n",
    "plt.show()"
   ]
  },
  {
   "cell_type": "code",
   "execution_count": 43,
   "metadata": {},
   "outputs": [
    {
     "data": {
      "image/png": "[encoded data removed]",
      "text/plain": [
       "<Figure size 432x288 with 1 Axes>"
      ]
     },
     "metadata": {
      "needs_background": "light"
     },
     "output_type": "display_data"
    }
   ],
   "source": [
    "import matplotlib.pyplot as plt\n",
    "import numpy as np\n",
    "\n",
    "x_surf, y_surf = np.meshgrid(np.linspace(x.KM_Inicial.min(), x.KM_Inicial.max(), 100),np.linspace(x.Km_Diferenca.min(), x.Km_Diferenca.max(), 100))\n",
    "onlyX = pd.DataFrame({'KM_Inicial': x_surf.ravel(), 'Km_Diferenca': y_surf.ravel()})\n",
    "\n",
    "fittedY= results_formula.predict(onlyX)\n",
    "\n",
    "fittedY=np.array(fittedY)\n",
    "\n",
    "\n",
    "\n",
    "\n",
    "# Visualize the Data for Multiple Linear Regression\n",
    "\n",
    "fig = plt.figure()\n",
    "ax = fig.add_subplot(111, projection='3d')\n",
    "ax.scatter(x['KM_Inicial'],x['Km_Diferenca'],y,c='red', marker='o', alpha=0.5)\n",
    "ax.plot_surface(x_surf,y_surf,fittedY.reshape(x_surf.shape), color='b', alpha=0.3)\n",
    "ax.set_xlabel('KM_Inicial')\n",
    "ax.set_ylabel('Km_Diferenca')\n",
    "ax.set_zlabel('Total')\n",
    "plt.show()"
   ]
  },
  {
   "cell_type": "markdown",
   "metadata": {
    "id": "dXzy86jh_L5a"
   },
   "source": [
    "### Exercício 10"
   ]
  },
  {
   "cell_type": "markdown",
   "metadata": {
    "id": "R4o79I4M_aDA"
   },
   "source": [
    "Uma empresa pretende analisar o tempo médio do processo  de atendimento observando  o turno de entrada dos funcionários e o tempo de experiência deles. Os turnos de trabalho analisados foram  manhã e tarde e o tempo de experiência é dado em dias."
   ]
  },
  {
   "cell_type": "code",
   "execution_count": 67,
   "metadata": {
    "id": "LFYXTHtBBEE0"
   },
   "outputs": [
    {
     "data": {
      "text/html": [
       "<div>\n",
       "<style scoped>\n",
       "    .dataframe tbody tr th:only-of-type {\n",
       "        vertical-align: middle;\n",
       "    }\n",
       "\n",
       "    .dataframe tbody tr th {\n",
       "        vertical-align: top;\n",
       "    }\n",
       "\n",
       "    .dataframe thead th {\n",
       "        text-align: right;\n",
       "    }\n",
       "</style>\n",
       "<table border=\"1\" class=\"dataframe\">\n",
       "  <thead>\n",
       "    <tr style=\"text-align: right;\">\n",
       "      <th></th>\n",
       "      <th>TMP</th>\n",
       "      <th>Experiencia</th>\n",
       "      <th>Turno</th>\n",
       "    </tr>\n",
       "  </thead>\n",
       "  <tbody>\n",
       "    <tr>\n",
       "      <th>0</th>\n",
       "      <td>180.330</td>\n",
       "      <td>99</td>\n",
       "      <td>T</td>\n",
       "    </tr>\n",
       "    <tr>\n",
       "      <th>1</th>\n",
       "      <td>143.629</td>\n",
       "      <td>99</td>\n",
       "      <td>M</td>\n",
       "    </tr>\n",
       "    <tr>\n",
       "      <th>2</th>\n",
       "      <td>164.092</td>\n",
       "      <td>99</td>\n",
       "      <td>M</td>\n",
       "    </tr>\n",
       "    <tr>\n",
       "      <th>3</th>\n",
       "      <td>174.523</td>\n",
       "      <td>64</td>\n",
       "      <td>T</td>\n",
       "    </tr>\n",
       "    <tr>\n",
       "      <th>4</th>\n",
       "      <td>137.104</td>\n",
       "      <td>298</td>\n",
       "      <td>M</td>\n",
       "    </tr>\n",
       "  </tbody>\n",
       "</table>\n",
       "</div>"
      ],
      "text/plain": [
       "       TMP  Experiencia Turno\n",
       "0  180.330           99     T\n",
       "1  143.629           99     M\n",
       "2  164.092           99     M\n",
       "3  174.523           64     T\n",
       "4  137.104          298     M"
      ]
     },
     "execution_count": 67,
     "metadata": {},
     "output_type": "execute_result"
    }
   ],
   "source": [
    "import pandas as pd\n",
    "\n",
    "df = pd.read_csv('https://raw.githubusercontent.com/brunamulinari/DataBasesPython/master/Exercicios/Exercicio%208%20-%20RegMult.csv', delimiter=';',decimal=',')\n",
    "df.head()"
   ]
  },
  {
   "cell_type": "markdown",
   "metadata": {
    "id": "RwLORVCWGX_m"
   },
   "source": [
    "* Necessário fazer dummy com a variável turno de trabalho:"
   ]
  },
  {
   "cell_type": "code",
   "execution_count": 68,
   "metadata": {
    "id": "g1-r1j5FGcC3"
   },
   "outputs": [],
   "source": [
    "turno_manha = {'M':1, 'T':0}\n",
    "\n",
    "df['turno_manha'] = df['Turno'].map(turno_manha) "
   ]
  },
  {
   "cell_type": "code",
   "execution_count": 69,
   "metadata": {
    "id": "g3UsrA0HGylt"
   },
   "outputs": [],
   "source": [
    "turno_tarde = {'M':0, 'T':1}\n",
    "\n",
    "df['turno_tarde'] = df['Turno'].map(turno_tarde) "
   ]
  },
  {
   "cell_type": "code",
   "execution_count": 70,
   "metadata": {
    "id": "vvzPY3WxHEwg"
   },
   "outputs": [
    {
     "data": {
      "text/html": [
       "<div>\n",
       "<style scoped>\n",
       "    .dataframe tbody tr th:only-of-type {\n",
       "        vertical-align: middle;\n",
       "    }\n",
       "\n",
       "    .dataframe tbody tr th {\n",
       "        vertical-align: top;\n",
       "    }\n",
       "\n",
       "    .dataframe thead th {\n",
       "        text-align: right;\n",
       "    }\n",
       "</style>\n",
       "<table border=\"1\" class=\"dataframe\">\n",
       "  <thead>\n",
       "    <tr style=\"text-align: right;\">\n",
       "      <th></th>\n",
       "      <th>TMP</th>\n",
       "      <th>Experiencia</th>\n",
       "      <th>Turno</th>\n",
       "      <th>turno_manha</th>\n",
       "      <th>turno_tarde</th>\n",
       "    </tr>\n",
       "  </thead>\n",
       "  <tbody>\n",
       "    <tr>\n",
       "      <th>0</th>\n",
       "      <td>180.330</td>\n",
       "      <td>99</td>\n",
       "      <td>T</td>\n",
       "      <td>0</td>\n",
       "      <td>1</td>\n",
       "    </tr>\n",
       "    <tr>\n",
       "      <th>1</th>\n",
       "      <td>143.629</td>\n",
       "      <td>99</td>\n",
       "      <td>M</td>\n",
       "      <td>1</td>\n",
       "      <td>0</td>\n",
       "    </tr>\n",
       "    <tr>\n",
       "      <th>2</th>\n",
       "      <td>164.092</td>\n",
       "      <td>99</td>\n",
       "      <td>M</td>\n",
       "      <td>1</td>\n",
       "      <td>0</td>\n",
       "    </tr>\n",
       "    <tr>\n",
       "      <th>3</th>\n",
       "      <td>174.523</td>\n",
       "      <td>64</td>\n",
       "      <td>T</td>\n",
       "      <td>0</td>\n",
       "      <td>1</td>\n",
       "    </tr>\n",
       "    <tr>\n",
       "      <th>4</th>\n",
       "      <td>137.104</td>\n",
       "      <td>298</td>\n",
       "      <td>M</td>\n",
       "      <td>1</td>\n",
       "      <td>0</td>\n",
       "    </tr>\n",
       "  </tbody>\n",
       "</table>\n",
       "</div>"
      ],
      "text/plain": [
       "       TMP  Experiencia Turno  turno_manha  turno_tarde\n",
       "0  180.330           99     T            0            1\n",
       "1  143.629           99     M            1            0\n",
       "2  164.092           99     M            1            0\n",
       "3  174.523           64     T            0            1\n",
       "4  137.104          298     M            1            0"
      ]
     },
     "execution_count": 70,
     "metadata": {},
     "output_type": "execute_result"
    }
   ],
   "source": [
    "df.head()"
   ]
  },
  {
   "cell_type": "code",
   "execution_count": 71,
   "metadata": {},
   "outputs": [
    {
     "data": {
      "text/html": [
       "<div>\n",
       "<style scoped>\n",
       "    .dataframe tbody tr th:only-of-type {\n",
       "        vertical-align: middle;\n",
       "    }\n",
       "\n",
       "    .dataframe tbody tr th {\n",
       "        vertical-align: top;\n",
       "    }\n",
       "\n",
       "    .dataframe thead th {\n",
       "        text-align: right;\n",
       "    }\n",
       "</style>\n",
       "<table border=\"1\" class=\"dataframe\">\n",
       "  <thead>\n",
       "    <tr style=\"text-align: right;\">\n",
       "      <th></th>\n",
       "      <th>TMP</th>\n",
       "      <th>Experiencia</th>\n",
       "      <th>turno_manha</th>\n",
       "      <th>turno_tarde</th>\n",
       "    </tr>\n",
       "  </thead>\n",
       "  <tbody>\n",
       "    <tr>\n",
       "      <th>TMP</th>\n",
       "      <td>1.000000</td>\n",
       "      <td>-0.199404</td>\n",
       "      <td>-0.222481</td>\n",
       "      <td>0.222481</td>\n",
       "    </tr>\n",
       "    <tr>\n",
       "      <th>Experiencia</th>\n",
       "      <td>-0.199404</td>\n",
       "      <td>1.000000</td>\n",
       "      <td>0.342667</td>\n",
       "      <td>-0.342667</td>\n",
       "    </tr>\n",
       "    <tr>\n",
       "      <th>turno_manha</th>\n",
       "      <td>-0.222481</td>\n",
       "      <td>0.342667</td>\n",
       "      <td>1.000000</td>\n",
       "      <td>-1.000000</td>\n",
       "    </tr>\n",
       "    <tr>\n",
       "      <th>turno_tarde</th>\n",
       "      <td>0.222481</td>\n",
       "      <td>-0.342667</td>\n",
       "      <td>-1.000000</td>\n",
       "      <td>1.000000</td>\n",
       "    </tr>\n",
       "  </tbody>\n",
       "</table>\n",
       "</div>"
      ],
      "text/plain": [
       "                  TMP  Experiencia  turno_manha  turno_tarde\n",
       "TMP          1.000000    -0.199404    -0.222481     0.222481\n",
       "Experiencia -0.199404     1.000000     0.342667    -0.342667\n",
       "turno_manha -0.222481     0.342667     1.000000    -1.000000\n",
       "turno_tarde  0.222481    -0.342667    -1.000000     1.000000"
      ]
     },
     "execution_count": 71,
     "metadata": {},
     "output_type": "execute_result"
    }
   ],
   "source": [
    "df.corr()"
   ]
  },
  {
   "cell_type": "code",
   "execution_count": 72,
   "metadata": {},
   "outputs": [
    {
     "name": "stdout",
     "output_type": "stream",
     "text": [
      "predicted response: 0      184.269241\n",
      "1      173.164560\n",
      "2      173.164560\n",
      "3      186.463562\n",
      "4      160.688279\n",
      "          ...    \n",
      "199    180.695633\n",
      "200    184.269241\n",
      "201    163.823023\n",
      "202    166.644293\n",
      "203    184.269241\n",
      "Length: 204, dtype: float64\n",
      "residual response: 0      -3.939241\n",
      "1     -29.535560\n",
      "2      -9.072560\n",
      "3     -11.940562\n",
      "4     -23.584279\n",
      "         ...    \n",
      "199    34.776367\n",
      "200    -5.263241\n",
      "201     2.649977\n",
      "202    31.662707\n",
      "203    62.565759\n",
      "Length: 204, dtype: float64\n",
      "residual mean: -3.413391573749501e-14\n",
      "R2: 0.0666862396745106\n",
      "Adjusted R2: 0.05739953559166999\n",
      "intercept: 123.282462146017\n",
      "slope: Experiencia    -0.062695\n",
      "turno_manha    56.088891\n",
      "turno_tarde    67.193572\n",
      "dtype: float64\n",
      "p-value: const          9.057337e-90\n",
      "Experiencia    5.576831e-02\n",
      "turno_manha    2.657221e-43\n",
      "turno_tarde    1.070879e-66\n",
      "dtype: float64\n"
     ]
    }
   ],
   "source": [
    "#multiple linear regression\n",
    "\n",
    "x = df[[\"Experiencia\",\"turno_manha\",\"turno_tarde\"]] #independent variable\n",
    "y = df[\"TMP\"] #dependent variable\n",
    "\n",
    "x = sm.add_constant(x)\n",
    "\n",
    "#creating the model\n",
    "model = sm.OLS(y,x).fit()\n",
    "\n",
    "#predicting values\n",
    "y_pred = model.predict(x)\n",
    "print(\"predicted response:\", y_pred)\n",
    "\n",
    "#calculating residual values\n",
    "res = model.resid\n",
    "print(\"residual response:\", res)\n",
    "print(\"residual mean:\", np.mean(res))\n",
    "\n",
    "#R2, adjusted R2, b0, b1, p-value\n",
    "print(\"R2:\", model.rsquared)\n",
    "\n",
    "print(\"Adjusted R2:\", model.rsquared_adj)\n",
    "\n",
    "print(\"intercept:\", model.params[0])\n",
    "\n",
    "print(\"slope:\", model.params[1:])\n",
    "\n",
    "print(\"p-value:\", model.pvalues)"
   ]
  },
  {
   "cell_type": "code",
   "execution_count": null,
   "metadata": {},
   "outputs": [],
   "source": [
    "#equation\n",
    "y = 123.28 - 0.063x1 + 56.089x2 + 67.196x3"
   ]
  },
  {
   "cell_type": "code",
   "execution_count": 73,
   "metadata": {},
   "outputs": [
    {
     "data": {
      "image/png": "[encoded data removed]",
      "text/plain": [
       "<Figure size 432x288 with 1 Axes>"
      ]
     },
     "metadata": {
      "needs_background": "light"
     },
     "output_type": "display_data"
    }
   ],
   "source": [
    "#plotting residual value\n",
    "plt.scatter(x[\"Experiencia\"], res)\n",
    "\n",
    "plt.show()"
   ]
  },
  {
   "cell_type": "code",
   "execution_count": 76,
   "metadata": {},
   "outputs": [
    {
     "data": {
      "image/png": "[encoded data removed]",
      "text/plain": [
       "<Figure size 432x288 with 1 Axes>"
      ]
     },
     "metadata": {
      "needs_background": "light"
     },
     "output_type": "display_data"
    }
   ],
   "source": [
    "sns.swarmplot(x=x[\"turno_manha\"],y=res, data=df)\n",
    "plt.show()"
   ]
  },
  {
   "cell_type": "code",
   "execution_count": 77,
   "metadata": {},
   "outputs": [
    {
     "data": {
      "image/png": "[encoded data removed]",
      "text/plain": [
       "<Figure size 432x288 with 1 Axes>"
      ]
     },
     "metadata": {
      "needs_background": "light"
     },
     "output_type": "display_data"
    }
   ],
   "source": [
    "sns.swarmplot(x=x[\"turno_tarde\"],y=res, data=df)\n",
    "plt.show()"
   ]
  },
  {
   "cell_type": "markdown",
   "metadata": {
    "id": "PV1UGQLpIY-A"
   },
   "source": [
    "## Extra"
   ]
  },
  {
   "cell_type": "markdown",
   "metadata": {
    "id": "5o4x9Uh2IdPK"
   },
   "source": [
    "Material sobre regressão linear do [MIT](http://www.mit.edu/~6.s085/notes/lecture3.pdf)."
   ]
  },
  {
   "cell_type": "markdown",
   "metadata": {
    "id": "ucAs1wVoeSKp"
   },
   "source": [
    "Outras métricas que podemos utilizar para avaliarmos nossos modelos ([Texto](https://medium.com/turing-talks/como-avaliar-seu-modelo-de-regress%C3%A3o-c2c8d73dab96))."
   ]
  }
 ],
 "metadata": {
  "colab": {
   "name": "[HARVE] [EXERCÍCIOS]_Analise_Descritiva_Perguntas.ipynb",
   "provenance": [],
   "toc_visible": true
  },
  "kernelspec": {
   "display_name": "Python 3",
   "language": "python",
   "name": "python3"
  },
  "language_info": {
   "codemirror_mode": {
    "name": "ipython",
    "version": 3
   },
   "file_extension": ".py",
   "mimetype": "text/x-python",
   "name": "python",
   "nbconvert_exporter": "python",
   "pygments_lexer": "ipython3",
   "version": "3.8.5"
  }
 },
 "nbformat": 4,
 "nbformat_minor": 1
}
